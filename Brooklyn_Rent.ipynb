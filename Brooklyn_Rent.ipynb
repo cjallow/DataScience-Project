{
 "cells": [
  {
   "cell_type": "code",
   "execution_count": 1,
   "metadata": {
    "collapsed": true
   },
   "outputs": [],
   "source": [
    "from bs4 import BeautifulSoup\n",
    "import sys\n",
    "import urllib\n",
    "import urllib.request\n",
    "from urllib.request import urlretrieve\n",
    "import pandas as pd\n",
    "import numpy as np\n",
    "from socket import timeout\n",
    "import logging\n",
    "import json\n",
    "from pprint import pprint"
   ]
  },
  {
   "cell_type": "code",
   "execution_count": 2,
   "metadata": {
    "collapsed": false
   },
   "outputs": [],
   "source": [
    "try:\n",
    "    response_BK = urllib.request.urlopen('http://streeteasy.com/for-rent/brooklyn', timeout=10).read().decode('utf-8')\n",
    "    response_QN = urllib.request.urlopen('http://streeteasy.com/for-rent/queens', timeout=10).read().decode('utf-8')\n",
    "    response_BX = urllib.request.urlopen('http://streeteasy.com/for-rent/bronx', timeout=10).read().decode('utf-8')\n",
    "except (HTTPError, URLError) as error:\n",
    "    logging.error('Data of %s not retrieved because %s\\nURL: %s', name, error, url)\n",
    "except timeout:\n",
    "    logging.error('socket timed out - URL %s', url)\n",
    "else:\n",
    "    logging.info('Access successful.')"
   ]
  },
  {
   "cell_type": "code",
   "execution_count": 3,
   "metadata": {
    "collapsed": false
   },
   "outputs": [],
   "source": [
    "#Check if the website is working for brooklyn\n",
    "#print(response_BK)"
   ]
  },
  {
   "cell_type": "code",
   "execution_count": 4,
   "metadata": {
    "collapsed": false
   },
   "outputs": [],
   "source": [
    "#Check if the website is working for queens\n",
    "#print(response_QN)"
   ]
  },
  {
   "cell_type": "code",
   "execution_count": 5,
   "metadata": {
    "collapsed": false
   },
   "outputs": [],
   "source": [
    "#Check if the website is working for the Bronx\n",
    "#print(response_BX)"
   ]
  },
  {
   "cell_type": "code",
   "execution_count": 6,
   "metadata": {
    "collapsed": true
   },
   "outputs": [],
   "source": [
    "def rent_Brooklyn(url):\n",
    "    return 'http://streeteasy.com/for-rent/brooklyn?page=' + url"
   ]
  },
  {
   "cell_type": "code",
   "execution_count": 7,
   "metadata": {
    "collapsed": true
   },
   "outputs": [],
   "source": [
    "def rent_Queens(url):\n",
    "    return 'http://streeteasy.com/for-rent/queens?page=' + url"
   ]
  },
  {
   "cell_type": "code",
   "execution_count": 8,
   "metadata": {
    "collapsed": true
   },
   "outputs": [],
   "source": [
    "def rent_Bronx(page):\n",
    "    return 'http://streeteasy.com/for-rent/bronx?page=' + url"
   ]
  },
  {
   "cell_type": "code",
   "execution_count": 9,
   "metadata": {
    "collapsed": false
   },
   "outputs": [],
   "source": [
    "#for Brooklyn\n",
    "price=[]\n",
    "where=[]\n",
    "bed=[]\n",
    "bath=[]\n",
    "size=[]\n",
    "street=[]"
   ]
  },
  {
   "cell_type": "code",
   "execution_count": 10,
   "metadata": {
    "collapsed": false
   },
   "outputs": [],
   "source": [
    "#There is another way to parse the HTML of a website\n",
    "#I am printing soup to help me find out the class ids\n",
    "#go to https://streeteasy.com/home/feed_format for attributs\n",
    "#Brooklyn Rent\n",
    "for p in range(1,100): #loop through all pages\n",
    "    url=rent_Brooklyn(str(p))\n",
    "    urls = urllib.request.urlopen(url).read()\n",
    "    soup = BeautifulSoup(urls,'html.parser')\n",
    "    #How to Pretty print html into a file\n",
    "    #Which helps me to get details of classes\n",
    "    #print(soup.prettify())\n",
    "    #print(soup)\n",
    "    y = lambda tag: tag.has_attr('data-id')\n",
    "    BK_listing = soup.find_all(y)\n",
    "\n",
    "    #print('aaaaa')\n",
    "    for i in range(len(BK_listing)):\n",
    "\n",
    "        #Find details title by street\n",
    "        street.append(BK_listing[i].find_all('div',{'class':'details-title'})[0].a.string)\n",
    "        #print('aaaaakkkkkkk')\n",
    "        # Loop through brooklyn rent prices\n",
    "        if BK_listing[i].find_all('span',{'class':'price'})!=[]:\n",
    "            price.append(BK_listing[i].find_all('span',{'class':'price'})[0].string)\n",
    "        else:\n",
    "            price.append('')\n",
    "        #print('aaaaappppppp')\n",
    "        #Location of brooklyn neighborhoods\n",
    "        #length=len(lst[i].find_all('div',{'class':'details_info'}))\n",
    "        l = BK_listing[i].find_all('div',{'class':'details_info'})\n",
    "        if(BK_listing[i].find_all('div',{'class':'details_info'})[0].find_all('a',href=True)!=[]):\n",
    "            where.append(BK_listing[i].find_all('div',{'class':'details_info'})[0].find_all('a',href=True)[0].string)\n",
    "        else:    \n",
    "            if(len(l)!=1):\n",
    "                if(BK_listing[i].find_all('div',{'class':'details_info'})[1].find_all('a',href=True)==[]):\n",
    "                    where.append('')\n",
    "                else:\n",
    "                    where.append(BK_listing[i].find_all('div',{'class':'details_info'})[1].find_all('a',href=True)[0].string)\n",
    "            else:\n",
    "                where.append('')\n",
    "        #print('aaaaaooooooo')\n",
    "        #The size of the apartment\n",
    "        if(BK_listing[i].find_all('span',{'class':'last_detail_cell'})!=[]):\n",
    "            size.append(BK_listing[i].find_all('span',{'class':'last_detail_cell'})[0].string)\n",
    "        else:\n",
    "            size.append('')\n",
    "\n",
    "        #loop through bedroom bath\n",
    "        if(BK_listing[i].find_all('span',{'class':'detail_cell'})!=[]):\n",
    "            bath.append(BK_listing[i].find_all('span',{'class':'detail_cell'})[0].string)\n",
    "        else:\n",
    "            bath.append('')\n",
    "\n",
    "        #loop through bedroom bed\n",
    "        if(BK_listing[i].find_all('span',{'class':'first_detail_cell'})!=[]):\n",
    "            bed.append(BK_listing[i].find_all('span',{'class':'first_detail_cell'})[0].string)\n",
    "        else:\n",
    "            bed.append('')               "
   ]
  },
  {
   "cell_type": "code",
   "execution_count": 11,
   "metadata": {
    "collapsed": false
   },
   "outputs": [
    {
     "name": "stdout",
     "output_type": "stream",
     "text": [
      "Brooklyn Rent is done\n"
     ]
    },
    {
     "data": {
      "text/html": [
       "<div>\n",
       "<table border=\"1\" class=\"dataframe\">\n",
       "  <thead>\n",
       "    <tr style=\"text-align: right;\">\n",
       "      <th></th>\n",
       "      <th>bath</th>\n",
       "      <th>bed</th>\n",
       "      <th>furnished</th>\n",
       "      <th>price</th>\n",
       "      <th>size</th>\n",
       "      <th>street</th>\n",
       "      <th>where</th>\n",
       "    </tr>\n",
       "  </thead>\n",
       "  <tbody>\n",
       "    <tr>\n",
       "      <th>0</th>\n",
       "      <td>1 bath</td>\n",
       "      <td>1.5 beds</td>\n",
       "      <td>0</td>\n",
       "      <td>$2,500</td>\n",
       "      <td>NaN</td>\n",
       "      <td>93 Greenpoint Avenue #2R</td>\n",
       "      <td>Greenpoint</td>\n",
       "    </tr>\n",
       "    <tr>\n",
       "      <th>1</th>\n",
       "      <td>1 bath</td>\n",
       "      <td>2 beds</td>\n",
       "      <td>0</td>\n",
       "      <td>$2,370</td>\n",
       "      <td>1,300 ft²</td>\n",
       "      <td>230 Hancock Street #1</td>\n",
       "      <td>Bedford-Stuyvesant</td>\n",
       "    </tr>\n",
       "    <tr>\n",
       "      <th>2</th>\n",
       "      <td>2 baths</td>\n",
       "      <td>2 beds</td>\n",
       "      <td>0</td>\n",
       "      <td>$5,295</td>\n",
       "      <td>1,052 ft²</td>\n",
       "      <td>429 Kent Avenue #305</td>\n",
       "      <td>Williamsburg</td>\n",
       "    </tr>\n",
       "    <tr>\n",
       "      <th>3</th>\n",
       "      <td>1 bath</td>\n",
       "      <td>1 bed</td>\n",
       "      <td>0</td>\n",
       "      <td>$3,600</td>\n",
       "      <td>766 ft²</td>\n",
       "      <td>429 Kent Avenue #306</td>\n",
       "      <td>Williamsburg</td>\n",
       "    </tr>\n",
       "    <tr>\n",
       "      <th>4</th>\n",
       "      <td>1 bath</td>\n",
       "      <td>2 beds</td>\n",
       "      <td>0</td>\n",
       "      <td>$2,000</td>\n",
       "      <td>900 ft²</td>\n",
       "      <td>1028 Bergen Street #4</td>\n",
       "      <td>NaN</td>\n",
       "    </tr>\n",
       "  </tbody>\n",
       "</table>\n",
       "</div>"
      ],
      "text/plain": [
       "      bath       bed  furnished   price       size                    street  \\\n",
       "0   1 bath  1.5 beds          0  $2,500        NaN  93 Greenpoint Avenue #2R   \n",
       "1   1 bath    2 beds          0  $2,370  1,300 ft²     230 Hancock Street #1   \n",
       "2  2 baths    2 beds          0  $5,295  1,052 ft²      429 Kent Avenue #305   \n",
       "3   1 bath     1 bed          0  $3,600    766 ft²      429 Kent Avenue #306   \n",
       "4   1 bath    2 beds          0  $2,000    900 ft²     1028 Bergen Street #4   \n",
       "\n",
       "                where  \n",
       "0          Greenpoint  \n",
       "1  Bedford-Stuyvesant  \n",
       "2        Williamsburg  \n",
       "3        Williamsburg  \n",
       "4                 NaN  "
      ]
     },
     "execution_count": 11,
     "metadata": {},
     "output_type": "execute_result"
    }
   ],
   "source": [
    "    #We will do a for loop for the other two boroughs\n",
    "    #By using the pprint module you can examine the contents of an element.\n",
    "\n",
    "    #dataframe for brooklyn\n",
    "    data={'street':street,'price':price,'where':where,'bed':bed, 'bath':bath, 'size':size,'furnished':0}\n",
    "    data=pd.DataFrame(data)\n",
    "\n",
    "    #is the apartment furnished?\n",
    "    cond=data['bed']=='Furnished'\n",
    "    data.loc[cond,'furnished']=1\n",
    "    data.loc[cond,'bed']=''\n",
    "\n",
    "    #move from size to bath\n",
    "    cond=[]\n",
    "    for i in data['size']:\n",
    "        if(i==''):\n",
    "            cond.append(False)\n",
    "        else:\n",
    "            cond.append(i.split(\" \")[1] in ('bath','baths'))\n",
    "    data.loc[cond,'bath']=data.loc[cond,'size'] \n",
    "    data.loc[cond,'size']=''\n",
    "\n",
    "    #move from bed to bath\n",
    "    cond=[]\n",
    "    for i in data['bed']:\n",
    "        if(i=='' or i=='Furnished' or i=='studio'):\n",
    "            cond.append(False)\n",
    "        else:\n",
    "            cond.append(i.split(\" \")[1] in ('bath','baths'))\n",
    "    data.loc[cond,'bath']=data.loc[cond,'bed'] \n",
    "    data.loc[cond,'bed']=''\n",
    "\n",
    "    #move from bath to bed\n",
    "    cond=[]\n",
    "    for i in data['bath']:\n",
    "        if(i==''):\n",
    "            cond.append(False)\n",
    "        else:\n",
    "            if(len(i.split(\" \"))==1):\n",
    "                cond.append(True)\n",
    "            else:\n",
    "                if(i.split(\" \")[1] in ('bath','baths')):\n",
    "                    cond.append(False)\n",
    "                else:\n",
    "                    cond.append(True)\n",
    "    data.loc[cond,'bed']=data.loc[cond,'bath'] \n",
    "    data.loc[cond,'bath']=''\n",
    "\n",
    "    #move from bed to size\n",
    "    cond=[]\n",
    "    for i in data['bed']:\n",
    "        if(i=='' or i=='studio'):\n",
    "            cond.append(False)\n",
    "        else:\n",
    "            if(i.split(\" \")[1] in ('bed','beds')):\n",
    "                cond.append(False)\n",
    "            else:\n",
    "                cond.append(True)\n",
    "    data.loc[cond,'size']=data.loc[cond,'bed'] \n",
    "    data.loc[cond,'bed']=''\n",
    "\n",
    "\n",
    "    #replace blank with nan\n",
    "    data=data.applymap(lambda x: np.nan if x=='' else x)\n",
    "\n",
    "    #data\n",
    "    data.to_csv('data/Brooklyn_Rent.csv')\n",
    " \n",
    "    print('Brooklyn Rent is done')\n",
    "    data.head()"
   ]
  },
  {
   "cell_type": "code",
   "execution_count": 12,
   "metadata": {
    "collapsed": false
   },
   "outputs": [],
   "source": [
    "#for Queens\n",
    "price=[]\n",
    "where=[]\n",
    "bed=[]\n",
    "bath=[]\n",
    "size=[]\n",
    "street=[]\n",
    "#There is another way to parse the HTML of a website\n",
    "#I am printing soup to help me find out the class ids\n",
    "#go to https://streeteasy.com/home/feed_format for attributs\n",
    "for p in range(1,100): #loop through all pages\n",
    "    url=rent_Queens(str(p))\n",
    "    urls = urllib.request.urlopen(url).read()\n",
    "    soup = BeautifulSoup(urls,'html.parser')\n",
    "    #How to Pretty print html into a file\n",
    "    #Which helps me to get details of classes\n",
    "    #print(soup.prettify())\n",
    "    #print(soup)\n",
    "    y = lambda tag: tag.has_attr('data-id')\n",
    "    QN_listing = soup.find_all(y)\n",
    "\n",
    "    #print('aaaaa')\n",
    "    for i in range(len(QN_listing)):\n",
    "\n",
    "        #Find details title by street\n",
    "        street.append(QN_listing[i].find_all('div',{'class':'details-title'})[0].a.string)\n",
    "        #print('aaaaakkkkkkk')\n",
    "        # Loop through brooklyn rent prices\n",
    "        if QN_listing[i].find_all('span',{'class':'price'})!=[]:\n",
    "            price.append(QN_listing[i].find_all('span',{'class':'price'})[0].string)\n",
    "        else:\n",
    "            price.append('')\n",
    "        #print('aaaaappppppp')\n",
    "        #Location of brooklyn neighborhoods\n",
    "        #length=len(lst[i].find_all('div',{'class':'details_info'}))\n",
    "        l = QN_listing[i].find_all('div',{'class':'details_info'})\n",
    "        if(QN_listing[i].find_all('div',{'class':'details_info'})[0].find_all('a',href=True)!=[]):\n",
    "            where.append(QN_listing[i].find_all('div',{'class':'details_info'})[0].find_all('a',href=True)[0].string)\n",
    "        else:    \n",
    "            if(len(l)!=1):\n",
    "                if(QN_listing[i].find_all('div',{'class':'details_info'})[1].find_all('a',href=True)==[]):\n",
    "                    where.append('')\n",
    "                else:\n",
    "                    where.append(QN_listing[i].find_all('div',{'class':'details_info'})[1].find_all('a',href=True)[0].string)\n",
    "            else:\n",
    "                where.append('')\n",
    "        #print('aaaaaooooooo')\n",
    "        #The size of the apartment\n",
    "        if(QN_listing[i].find_all('span',{'class':'last_detail_cell'})!=[]):\n",
    "            size.append(QN_listing[i].find_all('span',{'class':'last_detail_cell'})[0].string)\n",
    "        else:\n",
    "            size.append('')\n",
    "\n",
    "        #loop through bedroom bath\n",
    "        if(QN_listing[i].find_all('span',{'class':'detail_cell'})!=[]):\n",
    "            bath.append(QN_listing[i].find_all('span',{'class':'detail_cell'})[0].string)\n",
    "        else:\n",
    "            bath.append('')\n",
    "\n",
    "        #loop through bedroom bed\n",
    "        if(QN_listing[i].find_all('span',{'class':'first_detail_cell'})!=[]):\n",
    "            bed.append(QN_listing[i].find_all('span',{'class':'first_detail_cell'})[0].string)\n",
    "        else:\n",
    "            bed.append('')\n",
    "                       "
   ]
  },
  {
   "cell_type": "code",
   "execution_count": 13,
   "metadata": {
    "collapsed": false
   },
   "outputs": [],
   "source": [
    "    #dataframe for queens\n",
    "    data2={'street':street,'price':price,'where':where,'bed':bed, 'bath':bath, 'size':size,'furnished':0}\n",
    "    data2=pd.DataFrame(data2)\n",
    "\n",
    "    #is the apartment furnished?\n",
    "    cond=data2['bed']=='Furnished'\n",
    "    data2.loc[cond,'furnished']=1\n",
    "    data2.loc[cond,'bed']=''\n",
    "\n",
    "    #move from size to bath\n",
    "    cond=[]\n",
    "    for i in data2['size']:\n",
    "        if(i==''):\n",
    "            cond.append(False)\n",
    "        else:\n",
    "            cond.append(i.split(\" \")[1] in ('bath','baths'))\n",
    "    data2.loc[cond,'bath']=data2.loc[cond,'size'] \n",
    "    data2.loc[cond,'size']=''\n",
    "\n",
    "    #move from bed to bath\n",
    "    cond=[]\n",
    "    for i in data2['bed']:\n",
    "        if(i=='' or i=='Furnished' or i=='studio'):\n",
    "            cond.append(False)\n",
    "        else:\n",
    "            cond.append(i.split(\" \")[1] in ('bath','baths'))\n",
    "    data2.loc[cond,'bath']=data2.loc[cond,'bed'] \n",
    "    data2.loc[cond,'bed']=''\n",
    "\n",
    "    #move from bath to bed\n",
    "    cond=[]\n",
    "    for i in data2['bath']:\n",
    "        if(i==''):\n",
    "            cond.append(False)\n",
    "        else:\n",
    "            if(len(i.split(\" \"))==1):\n",
    "                cond.append(True)\n",
    "            else:\n",
    "                if(i.split(\" \")[1] in ('bath','baths')):\n",
    "                    cond.append(False)\n",
    "                else:\n",
    "                    cond.append(True)\n",
    "    data2.loc[cond,'bed']=data2.loc[cond,'bath'] \n",
    "    data2.loc[cond,'bath']=''\n",
    "\n",
    "    #move from bed to size\n",
    "    cond=[]\n",
    "    for i in data2['bed']:\n",
    "        if(i=='' or i=='studio'):\n",
    "            cond.append(False)\n",
    "        else:\n",
    "            if(i.split(\" \")[1] in ('bed','beds')):\n",
    "                cond.append(False)\n",
    "            else:\n",
    "                cond.append(True)\n",
    "    data2.loc[cond,'size']=data2.loc[cond,'bed'] \n",
    "    data2.loc[cond,'bed']=''\n",
    "\n",
    "\n",
    "    #replace blank with nan\n",
    "    data2=data2.applymap(lambda x: np.nan if x=='' else x)\n",
    "\n",
    "    #data\n",
    "    data2.to_csv('data/Queens_rent.csv')"
   ]
  },
  {
   "cell_type": "code",
   "execution_count": null,
   "metadata": {
    "collapsed": true
   },
   "outputs": [],
   "source": []
  },
  {
   "cell_type": "code",
   "execution_count": null,
   "metadata": {
    "collapsed": true
   },
   "outputs": [],
   "source": []
  },
  {
   "cell_type": "code",
   "execution_count": null,
   "metadata": {
    "collapsed": true
   },
   "outputs": [],
   "source": []
  },
  {
   "cell_type": "code",
   "execution_count": null,
   "metadata": {
    "collapsed": true
   },
   "outputs": [],
   "source": []
  }
 ],
 "metadata": {
  "anaconda-cloud": {},
  "kernelspec": {
   "display_name": "Python [DataScience-Project]",
   "language": "python",
   "name": "Python [DataScience-Project]"
  },
  "language_info": {
   "codemirror_mode": {
    "name": "ipython",
    "version": 3
   },
   "file_extension": ".py",
   "mimetype": "text/x-python",
   "name": "python",
   "nbconvert_exporter": "python",
   "pygments_lexer": "ipython3",
   "version": "3.5.2"
  }
 },
 "nbformat": 4,
 "nbformat_minor": 1
}
