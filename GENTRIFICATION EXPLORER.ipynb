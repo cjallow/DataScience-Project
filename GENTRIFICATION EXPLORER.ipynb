{
 "cells": [
  {
   "cell_type": "markdown",
   "metadata": {},
   "source": [
    "# INSTRUCTIONS:\n",
    "#### Install plotly you would need in Geo Map subplots as part of our presentation \n",
    "*you can read on it via this link*  https://plot.ly/api/\n",
    "\n",
    "\n",
    "# URLS for the project\n",
    "\n",
    "## Neighborhood Data-Set:\n",
    "\n",
    "#### https://www.huduser.gov/portal/datasets/fmr/smallarea/index.html\n",
    "\n",
    "## Taxi Data-Set:\n",
    "\n",
    "#### https://data.cityofnewyork.us/resource/74wj-s5ij.json (2010)  Yellow taxi\n",
    "#### https://data.cityofnewyork.us/resource/uwyp-dntv.json (2011) Yellow taxi\n",
    "#### https://data.cityofnewyork.us/resource/kerk-3eby.json (2012) Yellow taxi\n",
    "#### https://data.cityofnewyork.us/resource/t7ny-aygi.json (2013) Yellow taxi\n",
    "#### https://data.cityofnewyork.us/resource/gkne-dk5s.json (2014) Yellow taxi\n",
    "#### https://data.cityofnewyork.us/resource/7j25-xd5y.json (2014) Green taxi\n",
    "\n",
    "\n"
   ]
  },
  {
   "cell_type": "code",
   "execution_count": 1,
   "metadata": {
    "collapsed": false
   },
   "outputs": [
    {
     "data": {
      "text/html": [
       "\n",
       "        <iframe\n",
       "            width=\"1000\"\n",
       "            height=\"480\"\n",
       "            src=\"https://www.google.com/maps/d/embed?mid=1VYN-6Vkk01byUCF7P13rT6ORT5g&hl=en_US\"\n",
       "            frameborder=\"0\"\n",
       "            allowfullscreen\n",
       "        ></iframe>\n",
       "        "
      ],
      "text/plain": [
       "<IPython.lib.display.IFrame at 0x7f14804128d0>"
      ]
     },
     "execution_count": 1,
     "metadata": {},
     "output_type": "execute_result"
    }
   ],
   "source": [
    "from IPython.display import IFrame\n",
    "IFrame('https://www.google.com/maps/d/embed?mid=1VYN-6Vkk01byUCF7P13rT6ORT5g&hl=en_US', width=1000, height=480)\n",
    "\n",
    "#<iframe src=\"https://www.google.com/maps/d/embed?mid=1VYN-6Vkk01byUCF7P13rT6ORT5g&hl=en_US\" width=\"640\" height=\"480\"></iframe>\n"
   ]
  },
  {
   "cell_type": "code",
   "execution_count": 2,
   "metadata": {
    "collapsed": false
   },
   "outputs": [],
   "source": [
    "%matplotlib inline \n",
    "import pandas as pd\n",
    "import requests \n",
    "from io import StringIO\n",
    "from io import BytesIO\n",
    "import numpy as np\n",
    "import matplotlib.pyplot as plt\n",
    "import plotly.plotly as py"
   ]
  },
  {
   "cell_type": "code",
   "execution_count": 3,
   "metadata": {
    "collapsed": false
   },
   "outputs": [],
   "source": [
    "urls = ['https://data.cityofnewyork.us/resource/74wj-s5ij.json', # 2010 yellow taxi\n",
    "        'https://data.cityofnewyork.us/resource/uwyp-dntv.json', # 2011 yellow taxi\n",
    "        'https://data.cityofnewyork.us/resource/kerk-3eby.json', # 2012 yellow taxi\n",
    "        'https://data.cityofnewyork.us/resource/t7ny-aygi.json', # 2013 yellow taxi\n",
    "        'https://data.cityofnewyork.us/resource/gkne-dk5s.json']#, # 2014 yellow taxi\n",
    "        #'https://data.cityofnewyork.us/resource/7j25-xd5y.json'] # 2014 green taxi"
   ]
  },
  {
   "cell_type": "code",
   "execution_count": 5,
   "metadata": {
    "collapsed": false,
    "scrolled": true
   },
   "outputs": [],
   "source": [
    "#def year_url(url):\n",
    "#    query    = (url)\n",
    "#    raw_data = pd.read_json(query)\n",
    "#    return (raw_data)\n",
    "#cleaning the data-set for the green-taxi 2014 since its diff attributes from the yellow taxi\n",
    "#cols = ['dropoff_latitude', 'dropoff_longitude','lpep_dropoff_datetime','lpep_pickup_datetime','pickup_latitude',\n",
    "#        'pickup_longitude','tip_amount','trip_distance']\n",
    "\n",
    "# 2014 green taxi\n",
    "#green_014 = pd.DataFrame(year_url(urls[5]), columns = cols)\n",
    "#green_014.head()"
   ]
  },
  {
   "cell_type": "code",
   "execution_count": 7,
   "metadata": {
    "collapsed": false
   },
   "outputs": [
    {
     "name": "stdout",
     "output_type": "stream",
     "text": [
      "(100000, 19)\n"
     ]
    }
   ],
   "source": [
    "#2010 taxi data ==============================================\n",
    "# read 50000 rows for vendorsid=VTS && payment_type=CRD\n",
    "vender_type1 = \"?vendorid=VTS&payment_type=CRD&$limit=50000\"\n",
    "Y_10_url_1 = urls[0] + vender_type1\n",
    "raw_data_10_1 = pd.read_json(Y_10_url_1)\n",
    "\n",
    "# read 50000 rows for vendors_id=VTS && payment_type=CSH\n",
    "vender_type2 = \"?vendorid=VTS&payment_type=CSH&$limit=50000\"\n",
    "Y_10_url_2 = urls[0] + vender_type2\n",
    "raw_data_10_2 = pd.read_json(Y_10_url_2)\n",
    "\n",
    "raw_data_10 = raw_data_10_1.append(raw_data_10_2, ignore_index=True)\n",
    "# confirm the data\n",
    "#print(raw_data_10.head())\n",
    "#print(raw_data_10.tail())\n",
    "print(raw_data_10.shape)\n",
    "# write the data into csv file\n",
    "#raw_data_10.to_csv('raw_data_10_vts.csv', sep='\\t') # <-- to write\n"
   ]
  },
  {
   "cell_type": "code",
   "execution_count": 10,
   "metadata": {
    "collapsed": false
   },
   "outputs": [
    {
     "name": "stdout",
     "output_type": "stream",
     "text": [
      "(100000, 19)\n"
     ]
    }
   ],
   "source": [
    "#2011 taxi data ==============================================\n",
    "# read 50000 rows for vendorsid=VTS && payment_type=CRD\n",
    "vender_type1 = \"?vendorid=VTS&payment_type=CRD&$limit=50000\"\n",
    "Y_11_url_1 = urls[1] + vender_type1\n",
    "raw_data_11_1 = pd.read_json(Y_11_url_1)\n",
    "\n",
    "# read 50000 rows for vendors_id=VTS && payment_type=CSH\n",
    "vender_type2 = \"?vendorid=VTS&payment_type=CSH&$limit=50000\"\n",
    "Y_11_url_2 = urls[1] + vender_type2\n",
    "raw_data_11_2 = pd.read_json(Y_11_url_2)\n",
    "\n",
    "raw_data_11 = raw_data_11_1.append(raw_data_11_2, ignore_index=True)\n",
    "# confirm the data\n",
    "#print(raw_data_11.head())\n",
    "#print(raw_data_11.tail())\n",
    "print(raw_data_11.shape)\n",
    "\n",
    "# write the data into csv file\n",
    "#raw_data_11.to_csv('raw_data_11_vts.csv', sep='\\t') # <-- to write"
   ]
  },
  {
   "cell_type": "code",
   "execution_count": 8,
   "metadata": {
    "collapsed": false
   },
   "outputs": [
    {
     "name": "stdout",
     "output_type": "stream",
     "text": [
      "(100000, 19)\n"
     ]
    }
   ],
   "source": [
    "#2012 taxi data ==============================================\n",
    "# read 50000 rows for vendorsid=VTS && payment_type=CRD\n",
    "vender_type1 = \"?vendorid=VTS&payment_type=CRD&$limit=50000\"\n",
    "Y_12_url_1 = urls[2] + vender_type1\n",
    "\n",
    "raw_data_12_1 = pd.read_json(Y_12_url_1)\n",
    "\n",
    "# read 50000 rows for vendors_id=VTS && payment_type=CSH\n",
    "vender_type2 = \"?vendorid=VTS&payment_type=CSH&$limit=50000\"\n",
    "Y_12_url_2 = urls[2] + vender_type2\n",
    "\n",
    "raw_data_12_2 = pd.read_json(Y_12_url_2)\n",
    "\n",
    "raw_data_12 = raw_data_12_1.append(raw_data_12_2, ignore_index=True)\n",
    "# confirm the data\n",
    "#print(raw_data_12.head())\n",
    "#print(raw_data_12.tail())\n",
    "print(raw_data_12.shape)\n",
    "# write the data into csv file\n",
    "#raw_data_12.to_csv('raw_data_12_vts.csv', sep='\\t') # <-- to write"
   ]
  },
  {
   "cell_type": "code",
   "execution_count": 9,
   "metadata": {
    "collapsed": false
   },
   "outputs": [
    {
     "name": "stdout",
     "output_type": "stream",
     "text": [
      "(100000, 19)\n"
     ]
    }
   ],
   "source": [
    "#2013 taxi data ==============================================\n",
    "# read 50000 rows for vendorsid=VTS && payment_type=CRD\n",
    "vender_type1 = \"?vendorid=VTS&payment_type=CRD&$limit=50000\"\n",
    "Y_13_url_1 = urls[3] + vender_type1\n",
    "raw_data_13_1 = pd.read_json(Y_13_url_1)\n",
    "\n",
    "# read 50000 rows for vendors_id=VTS && payment_type=CSH\n",
    "vender_type2 = \"?vendorid=VTS&payment_type=CSH&$limit=50000\"\n",
    "Y_13_url_2 = urls[3] + vender_type2\n",
    "raw_data_13_2 = pd.read_json(Y_13_url_2)\n",
    "raw_data_13 = raw_data_13_1.append(raw_data_13_2, ignore_index=True)\n",
    "\n",
    "# confirm the data\n",
    "#print(raw_data_13.head())\n",
    "#print(raw_data_13.tail())\n",
    "print(raw_data_13.shape)\n",
    "# write the data into csv file\n",
    "#raw_data_13.to_csv('raw_data_13_vts.csv', sep='\\t') # <-- to write"
   ]
  },
  {
   "cell_type": "code",
   "execution_count": null,
   "metadata": {
    "collapsed": false
   },
   "outputs": [],
   "source": [
    "#2014 taxi data ==============================================\n",
    "# read 50000 rows for vendors_id=VTS && payment_type=CRD\n",
    "vender_type1 = \"?vendor_id=VTS&payment_type=CRD&$limit=50000\"\n",
    "Y_14_url_1 = urls[4] + vender_type1\n",
    "\n",
    "raw_data_14_1 = pd.read_json(Y_14_url_1)\n",
    "#raw_data_14_1.to_csv(\"checker.csv\", sep = '\\t') \n",
    "\n",
    "# read 50000 rows for vendors_id=VTS && payment_type=CSH\n",
    "vender_type2 = \"?vendor_id=VTS&payment_type=CSH&$limit=50000\"\n",
    "Y_14_url_2 = urls[4] + vender_type2\n",
    "\n",
    "raw_data_14_2 = pd.read_json(Y_14_url_2)\n",
    "\n",
    "raw_data_14 = raw_data_14_1.append(raw_data_14_2, ignore_index=True)\n",
    "#raw_data_14.drop('colum_name', axis=1)\n",
    "print(raw_data_14.shape)\n",
    "# confirm the data\n",
    "print(raw_data_14.head())\n",
    "print(raw_data_14.tail())\n",
    "\n",
    "# write the data into csv file\n",
    "raw_data_14.to_csv('raw_data_14_vts.csv', sep='\\t') # <-- to write"
   ]
  },
  {
   "cell_type": "markdown",
   "metadata": {},
   "source": [
    "<<< end of reading data "
   ]
  },
  {
   "cell_type": "code",
   "execution_count": 28,
   "metadata": {
    "collapsed": false
   },
   "outputs": [],
   "source": [
    "#save the data in array inorder to modify some attributes \n",
    "processed_data = [raw_data_10,raw_data_11,raw_data_12,raw_data_13,raw_data_14,green_014]\n",
    "\n",
    "#there some columns in our yellow taxi data-set that contains the same data we need but diff column name\n",
    "#fix for it\n",
    "for i in range(len(processed_data)):\n",
    "    for j in processed_data[i].columns.values:\n",
    "        if j == 'lpep_dropoff_datetime' or j == 'tpep_dropoff_datetime':\n",
    "            processed_data[i].rename(columns={j: 'dropoff_datetime' }, inplace=True)\n",
    "            \n",
    "        if j == 'lpep_pickup_datetime'   or j == 'tpep_pickup_datetime':\n",
    "            processed_data[i].rename(columns={j: 'pickup_datetime' }, inplace=True)\n",
    "\n",
    "#cleaning other yellow taxi data-set so that it only contains the columns we need\n",
    "def needed_col(data):\n",
    "    cols_y = ['dropoff_latitude', 'dropoff_longitude','dropoff_datetime' , 'pickup_datetime',\n",
    "              'pickup_latitude','pickup_longitude','tip_amount','trip_distance']\n",
    "    refine_data = pd.DataFrame(data, columns = cols_y)\n",
    "    return (refine_data)\n",
    "\n",
    "y_data_010 = needed_col(data_010)\n",
    "y_data_011 = needed_col(data_011)\n",
    "y_data_012 = needed_col(data_012)\n",
    "y_data_013 = needed_col(data_013)\n",
    "y_data_014 = needed_col(data_014)"
   ]
  },
  {
   "cell_type": "code",
   "execution_count": 29,
   "metadata": {
    "collapsed": false
   },
   "outputs": [
    {
     "data": {
      "text/html": [
       "<div>\n",
       "<table border=\"1\" class=\"dataframe\">\n",
       "  <thead>\n",
       "    <tr style=\"text-align: right;\">\n",
       "      <th></th>\n",
       "      <th>dropoff_latitude</th>\n",
       "      <th>dropoff_longitude</th>\n",
       "      <th>dropoff_datetime</th>\n",
       "      <th>pickup_datetime</th>\n",
       "      <th>pickup_latitude</th>\n",
       "      <th>pickup_longitude</th>\n",
       "      <th>tip_amount</th>\n",
       "      <th>trip_distance</th>\n",
       "    </tr>\n",
       "  </thead>\n",
       "  <tbody>\n",
       "    <tr>\n",
       "      <th>0</th>\n",
       "      <td>40.813202</td>\n",
       "      <td>-73.945152</td>\n",
       "      <td>0008-01-10T20:50:52.000</td>\n",
       "      <td>0008-01-10T20:44:53.000</td>\n",
       "      <td>40.822823</td>\n",
       "      <td>-73.938164</td>\n",
       "      <td>0.0</td>\n",
       "      <td>1.07</td>\n",
       "    </tr>\n",
       "    <tr>\n",
       "      <th>1</th>\n",
       "      <td>40.723186</td>\n",
       "      <td>-73.942223</td>\n",
       "      <td>0011-01-03T20:02:34.000</td>\n",
       "      <td>0011-01-03T19:57:48.000</td>\n",
       "      <td>40.729080</td>\n",
       "      <td>-73.953835</td>\n",
       "      <td>2.0</td>\n",
       "      <td>1.10</td>\n",
       "    </tr>\n",
       "    <tr>\n",
       "      <th>2</th>\n",
       "      <td>40.634247</td>\n",
       "      <td>-74.025093</td>\n",
       "      <td>0028-01-06T00:23:00.000</td>\n",
       "      <td>0028-01-06T00:00:03.000</td>\n",
       "      <td>40.684532</td>\n",
       "      <td>-73.978569</td>\n",
       "      <td>0.0</td>\n",
       "      <td>6.09</td>\n",
       "    </tr>\n",
       "    <tr>\n",
       "      <th>3</th>\n",
       "      <td>40.759521</td>\n",
       "      <td>-73.778999</td>\n",
       "      <td>0016-01-01T21:48:51.000</td>\n",
       "      <td>0016-01-01T21:38:35.000</td>\n",
       "      <td>40.759911</td>\n",
       "      <td>-73.829147</td>\n",
       "      <td>0.0</td>\n",
       "      <td>2.98</td>\n",
       "    </tr>\n",
       "    <tr>\n",
       "      <th>4</th>\n",
       "      <td>40.709873</td>\n",
       "      <td>-74.014717</td>\n",
       "      <td>0001-01-11T01:43:23.000</td>\n",
       "      <td>0001-01-11T01:14:08.000</td>\n",
       "      <td>40.721851</td>\n",
       "      <td>-73.950264</td>\n",
       "      <td>0.0</td>\n",
       "      <td>5.70</td>\n",
       "    </tr>\n",
       "  </tbody>\n",
       "</table>\n",
       "</div>"
      ],
      "text/plain": [
       "   dropoff_latitude  dropoff_longitude         dropoff_datetime  \\\n",
       "0         40.813202         -73.945152  0008-01-10T20:50:52.000   \n",
       "1         40.723186         -73.942223  0011-01-03T20:02:34.000   \n",
       "2         40.634247         -74.025093  0028-01-06T00:23:00.000   \n",
       "3         40.759521         -73.778999  0016-01-01T21:48:51.000   \n",
       "4         40.709873         -74.014717  0001-01-11T01:43:23.000   \n",
       "\n",
       "           pickup_datetime  pickup_latitude  pickup_longitude  tip_amount  \\\n",
       "0  0008-01-10T20:44:53.000        40.822823        -73.938164         0.0   \n",
       "1  0011-01-03T19:57:48.000        40.729080        -73.953835         2.0   \n",
       "2  0028-01-06T00:00:03.000        40.684532        -73.978569         0.0   \n",
       "3  0016-01-01T21:38:35.000        40.759911        -73.829147         0.0   \n",
       "4  0001-01-11T01:14:08.000        40.721851        -73.950264         0.0   \n",
       "\n",
       "   trip_distance  \n",
       "0           1.07  \n",
       "1           1.10  \n",
       "2           6.09  \n",
       "3           2.98  \n",
       "4           5.70  "
      ]
     },
     "execution_count": 29,
     "metadata": {},
     "output_type": "execute_result"
    }
   ],
   "source": [
    "y_data_010.head()"
   ]
  },
  {
   "cell_type": "code",
   "execution_count": 30,
   "metadata": {
    "collapsed": false
   },
   "outputs": [
    {
     "data": {
      "text/html": [
       "<div>\n",
       "<table border=\"1\" class=\"dataframe\">\n",
       "  <thead>\n",
       "    <tr style=\"text-align: right;\">\n",
       "      <th></th>\n",
       "      <th>dropoff_latitude</th>\n",
       "      <th>dropoff_longitude</th>\n",
       "      <th>dropoff_datetime</th>\n",
       "      <th>pickup_datetime</th>\n",
       "      <th>pickup_latitude</th>\n",
       "      <th>pickup_longitude</th>\n",
       "      <th>tip_amount</th>\n",
       "      <th>trip_distance</th>\n",
       "    </tr>\n",
       "  </thead>\n",
       "  <tbody>\n",
       "    <tr>\n",
       "      <th>0</th>\n",
       "      <td>40.724422</td>\n",
       "      <td>-73.994383</td>\n",
       "      <td>2011-06-21T22:14:00.000</td>\n",
       "      <td>2011-06-21T22:03:00.000</td>\n",
       "      <td>40.707625</td>\n",
       "      <td>-74.001553</td>\n",
       "      <td>0.00</td>\n",
       "      <td>1.49</td>\n",
       "    </tr>\n",
       "    <tr>\n",
       "      <th>1</th>\n",
       "      <td>40.711134</td>\n",
       "      <td>-74.016117</td>\n",
       "      <td>2011-08-08T23:57:45.000</td>\n",
       "      <td>2011-08-08T23:49:24.000</td>\n",
       "      <td>40.740509</td>\n",
       "      <td>-74.005630</td>\n",
       "      <td>0.00</td>\n",
       "      <td>2.50</td>\n",
       "    </tr>\n",
       "    <tr>\n",
       "      <th>2</th>\n",
       "      <td>0.000000</td>\n",
       "      <td>0.000000</td>\n",
       "      <td>2011-09-15T03:58:54.000</td>\n",
       "      <td>2011-09-15T03:54:48.000</td>\n",
       "      <td>0.000000</td>\n",
       "      <td>0.000000</td>\n",
       "      <td>1.89</td>\n",
       "      <td>1.20</td>\n",
       "    </tr>\n",
       "    <tr>\n",
       "      <th>3</th>\n",
       "      <td>40.748888</td>\n",
       "      <td>-73.975833</td>\n",
       "      <td>2011-07-19T10:19:00.000</td>\n",
       "      <td>2011-07-19T10:08:00.000</td>\n",
       "      <td>40.747892</td>\n",
       "      <td>-73.988863</td>\n",
       "      <td>0.00</td>\n",
       "      <td>0.96</td>\n",
       "    </tr>\n",
       "    <tr>\n",
       "      <th>4</th>\n",
       "      <td>40.744913</td>\n",
       "      <td>-73.945500</td>\n",
       "      <td>2011-08-31T14:05:00.000</td>\n",
       "      <td>2011-08-31T13:46:00.000</td>\n",
       "      <td>40.751040</td>\n",
       "      <td>-73.945000</td>\n",
       "      <td>0.00</td>\n",
       "      <td>3.06</td>\n",
       "    </tr>\n",
       "  </tbody>\n",
       "</table>\n",
       "</div>"
      ],
      "text/plain": [
       "   dropoff_latitude  dropoff_longitude         dropoff_datetime  \\\n",
       "0         40.724422         -73.994383  2011-06-21T22:14:00.000   \n",
       "1         40.711134         -74.016117  2011-08-08T23:57:45.000   \n",
       "2          0.000000           0.000000  2011-09-15T03:58:54.000   \n",
       "3         40.748888         -73.975833  2011-07-19T10:19:00.000   \n",
       "4         40.744913         -73.945500  2011-08-31T14:05:00.000   \n",
       "\n",
       "           pickup_datetime  pickup_latitude  pickup_longitude  tip_amount  \\\n",
       "0  2011-06-21T22:03:00.000        40.707625        -74.001553        0.00   \n",
       "1  2011-08-08T23:49:24.000        40.740509        -74.005630        0.00   \n",
       "2  2011-09-15T03:54:48.000         0.000000          0.000000        1.89   \n",
       "3  2011-07-19T10:08:00.000        40.747892        -73.988863        0.00   \n",
       "4  2011-08-31T13:46:00.000        40.751040        -73.945000        0.00   \n",
       "\n",
       "   trip_distance  \n",
       "0           1.49  \n",
       "1           2.50  \n",
       "2           1.20  \n",
       "3           0.96  \n",
       "4           3.06  "
      ]
     },
     "execution_count": 30,
     "metadata": {},
     "output_type": "execute_result"
    }
   ],
   "source": [
    "y_data_011.head()"
   ]
  },
  {
   "cell_type": "code",
   "execution_count": 31,
   "metadata": {
    "collapsed": false
   },
   "outputs": [
    {
     "data": {
      "text/html": [
       "<div>\n",
       "<table border=\"1\" class=\"dataframe\">\n",
       "  <thead>\n",
       "    <tr style=\"text-align: right;\">\n",
       "      <th></th>\n",
       "      <th>dropoff_latitude</th>\n",
       "      <th>dropoff_longitude</th>\n",
       "      <th>dropoff_datetime</th>\n",
       "      <th>pickup_datetime</th>\n",
       "      <th>pickup_latitude</th>\n",
       "      <th>pickup_longitude</th>\n",
       "      <th>tip_amount</th>\n",
       "      <th>trip_distance</th>\n",
       "    </tr>\n",
       "  </thead>\n",
       "  <tbody>\n",
       "    <tr>\n",
       "      <th>0</th>\n",
       "      <td>40.770407</td>\n",
       "      <td>-73.986893</td>\n",
       "      <td>2012-06-25T20:47:00.000</td>\n",
       "      <td>2012-06-25T20:39:00.000</td>\n",
       "      <td>40.767928</td>\n",
       "      <td>-73.962740</td>\n",
       "      <td>1.0</td>\n",
       "      <td>1.70</td>\n",
       "    </tr>\n",
       "    <tr>\n",
       "      <th>1</th>\n",
       "      <td>40.713845</td>\n",
       "      <td>-73.997867</td>\n",
       "      <td>2012-08-11T21:44:00.000</td>\n",
       "      <td>2012-08-11T21:35:00.000</td>\n",
       "      <td>40.751447</td>\n",
       "      <td>-73.975002</td>\n",
       "      <td>0.0</td>\n",
       "      <td>1.42</td>\n",
       "    </tr>\n",
       "    <tr>\n",
       "      <th>2</th>\n",
       "      <td>40.727895</td>\n",
       "      <td>-73.993357</td>\n",
       "      <td>2012-02-24T06:51:48.000</td>\n",
       "      <td>2012-02-24T06:38:22.000</td>\n",
       "      <td>40.763360</td>\n",
       "      <td>-73.992565</td>\n",
       "      <td>1.0</td>\n",
       "      <td>3.20</td>\n",
       "    </tr>\n",
       "    <tr>\n",
       "      <th>3</th>\n",
       "      <td>40.780051</td>\n",
       "      <td>-73.956726</td>\n",
       "      <td>2012-04-26T21:36:11.000</td>\n",
       "      <td>2012-04-26T21:33:14.000</td>\n",
       "      <td>40.772920</td>\n",
       "      <td>-73.958413</td>\n",
       "      <td>0.0</td>\n",
       "      <td>0.60</td>\n",
       "    </tr>\n",
       "    <tr>\n",
       "      <th>4</th>\n",
       "      <td>40.762655</td>\n",
       "      <td>-74.001242</td>\n",
       "      <td>2012-06-29T09:06:31.000</td>\n",
       "      <td>2012-06-29T08:56:26.000</td>\n",
       "      <td>40.762923</td>\n",
       "      <td>-73.982564</td>\n",
       "      <td>0.0</td>\n",
       "      <td>1.30</td>\n",
       "    </tr>\n",
       "  </tbody>\n",
       "</table>\n",
       "</div>"
      ],
      "text/plain": [
       "   dropoff_latitude  dropoff_longitude         dropoff_datetime  \\\n",
       "0         40.770407         -73.986893  2012-06-25T20:47:00.000   \n",
       "1         40.713845         -73.997867  2012-08-11T21:44:00.000   \n",
       "2         40.727895         -73.993357  2012-02-24T06:51:48.000   \n",
       "3         40.780051         -73.956726  2012-04-26T21:36:11.000   \n",
       "4         40.762655         -74.001242  2012-06-29T09:06:31.000   \n",
       "\n",
       "           pickup_datetime  pickup_latitude  pickup_longitude  tip_amount  \\\n",
       "0  2012-06-25T20:39:00.000        40.767928        -73.962740         1.0   \n",
       "1  2012-08-11T21:35:00.000        40.751447        -73.975002         0.0   \n",
       "2  2012-02-24T06:38:22.000        40.763360        -73.992565         1.0   \n",
       "3  2012-04-26T21:33:14.000        40.772920        -73.958413         0.0   \n",
       "4  2012-06-29T08:56:26.000        40.762923        -73.982564         0.0   \n",
       "\n",
       "   trip_distance  \n",
       "0           1.70  \n",
       "1           1.42  \n",
       "2           3.20  \n",
       "3           0.60  \n",
       "4           1.30  "
      ]
     },
     "execution_count": 31,
     "metadata": {},
     "output_type": "execute_result"
    }
   ],
   "source": [
    "y_data_012.head()"
   ]
  },
  {
   "cell_type": "code",
   "execution_count": 32,
   "metadata": {
    "collapsed": false
   },
   "outputs": [
    {
     "data": {
      "text/html": [
       "<div>\n",
       "<table border=\"1\" class=\"dataframe\">\n",
       "  <thead>\n",
       "    <tr style=\"text-align: right;\">\n",
       "      <th></th>\n",
       "      <th>dropoff_latitude</th>\n",
       "      <th>dropoff_longitude</th>\n",
       "      <th>dropoff_datetime</th>\n",
       "      <th>pickup_datetime</th>\n",
       "      <th>pickup_latitude</th>\n",
       "      <th>pickup_longitude</th>\n",
       "      <th>tip_amount</th>\n",
       "      <th>trip_distance</th>\n",
       "    </tr>\n",
       "  </thead>\n",
       "  <tbody>\n",
       "    <tr>\n",
       "      <th>0</th>\n",
       "      <td>40.761542</td>\n",
       "      <td>-73.976697</td>\n",
       "      <td>2013-01-28T10:23:00.000</td>\n",
       "      <td>2013-01-28T10:20:00.000</td>\n",
       "      <td>40.762452</td>\n",
       "      <td>-73.978110</td>\n",
       "      <td>0.00</td>\n",
       "      <td>0.26</td>\n",
       "    </tr>\n",
       "    <tr>\n",
       "      <th>1</th>\n",
       "      <td>40.715045</td>\n",
       "      <td>-74.016115</td>\n",
       "      <td>2013-06-17T14:37:14.000</td>\n",
       "      <td>2013-06-17T14:32:06.000</td>\n",
       "      <td>40.712108</td>\n",
       "      <td>-74.010500</td>\n",
       "      <td>0.00</td>\n",
       "      <td>0.50</td>\n",
       "    </tr>\n",
       "    <tr>\n",
       "      <th>2</th>\n",
       "      <td>40.760480</td>\n",
       "      <td>-73.971565</td>\n",
       "      <td>2013-05-01T07:57:00.000</td>\n",
       "      <td>2013-05-01T07:40:00.000</td>\n",
       "      <td>40.737210</td>\n",
       "      <td>-73.996870</td>\n",
       "      <td>2.60</td>\n",
       "      <td>2.70</td>\n",
       "    </tr>\n",
       "    <tr>\n",
       "      <th>3</th>\n",
       "      <td>40.668347</td>\n",
       "      <td>-73.980303</td>\n",
       "      <td>2013-10-30T20:02:12.000</td>\n",
       "      <td>2013-10-30T19:41:24.000</td>\n",
       "      <td>40.725030</td>\n",
       "      <td>-74.005473</td>\n",
       "      <td>5.45</td>\n",
       "      <td>5.80</td>\n",
       "    </tr>\n",
       "    <tr>\n",
       "      <th>4</th>\n",
       "      <td>40.763215</td>\n",
       "      <td>-73.974433</td>\n",
       "      <td>2013-03-04T11:52:00.000</td>\n",
       "      <td>2013-03-04T11:44:00.000</td>\n",
       "      <td>40.751745</td>\n",
       "      <td>-73.986142</td>\n",
       "      <td>0.00</td>\n",
       "      <td>1.19</td>\n",
       "    </tr>\n",
       "  </tbody>\n",
       "</table>\n",
       "</div>"
      ],
      "text/plain": [
       "   dropoff_latitude  dropoff_longitude         dropoff_datetime  \\\n",
       "0         40.761542         -73.976697  2013-01-28T10:23:00.000   \n",
       "1         40.715045         -74.016115  2013-06-17T14:37:14.000   \n",
       "2         40.760480         -73.971565  2013-05-01T07:57:00.000   \n",
       "3         40.668347         -73.980303  2013-10-30T20:02:12.000   \n",
       "4         40.763215         -73.974433  2013-03-04T11:52:00.000   \n",
       "\n",
       "           pickup_datetime  pickup_latitude  pickup_longitude  tip_amount  \\\n",
       "0  2013-01-28T10:20:00.000        40.762452        -73.978110        0.00   \n",
       "1  2013-06-17T14:32:06.000        40.712108        -74.010500        0.00   \n",
       "2  2013-05-01T07:40:00.000        40.737210        -73.996870        2.60   \n",
       "3  2013-10-30T19:41:24.000        40.725030        -74.005473        5.45   \n",
       "4  2013-03-04T11:44:00.000        40.751745        -73.986142        0.00   \n",
       "\n",
       "   trip_distance  \n",
       "0           0.26  \n",
       "1           0.50  \n",
       "2           2.70  \n",
       "3           5.80  \n",
       "4           1.19  "
      ]
     },
     "execution_count": 32,
     "metadata": {},
     "output_type": "execute_result"
    }
   ],
   "source": [
    "y_data_013.head()"
   ]
  },
  {
   "cell_type": "code",
   "execution_count": 33,
   "metadata": {
    "collapsed": false
   },
   "outputs": [
    {
     "data": {
      "text/html": [
       "<div>\n",
       "<table border=\"1\" class=\"dataframe\">\n",
       "  <thead>\n",
       "    <tr style=\"text-align: right;\">\n",
       "      <th></th>\n",
       "      <th>dropoff_latitude</th>\n",
       "      <th>dropoff_longitude</th>\n",
       "      <th>dropoff_datetime</th>\n",
       "      <th>pickup_datetime</th>\n",
       "      <th>pickup_latitude</th>\n",
       "      <th>pickup_longitude</th>\n",
       "      <th>tip_amount</th>\n",
       "      <th>trip_distance</th>\n",
       "    </tr>\n",
       "  </thead>\n",
       "  <tbody>\n",
       "    <tr>\n",
       "      <th>0</th>\n",
       "      <td>40.770192</td>\n",
       "      <td>-73.918685</td>\n",
       "      <td>2014-09-20T01:59:00.000</td>\n",
       "      <td>2014-09-20T01:33:00.000</td>\n",
       "      <td>40.735232</td>\n",
       "      <td>-73.991880</td>\n",
       "      <td>0.0</td>\n",
       "      <td>6.27</td>\n",
       "    </tr>\n",
       "    <tr>\n",
       "      <th>1</th>\n",
       "      <td>40.767192</td>\n",
       "      <td>-73.971332</td>\n",
       "      <td>2014-05-19T10:43:00.000</td>\n",
       "      <td>2014-05-19T10:35:00.000</td>\n",
       "      <td>40.772880</td>\n",
       "      <td>-73.981728</td>\n",
       "      <td>0.0</td>\n",
       "      <td>0.82</td>\n",
       "    </tr>\n",
       "    <tr>\n",
       "      <th>2</th>\n",
       "      <td>40.760112</td>\n",
       "      <td>-73.972257</td>\n",
       "      <td>2014-05-07T07:05:17.000</td>\n",
       "      <td>2014-05-07T06:55:34.000</td>\n",
       "      <td>40.777891</td>\n",
       "      <td>-73.952068</td>\n",
       "      <td>2.0</td>\n",
       "      <td>1.90</td>\n",
       "    </tr>\n",
       "    <tr>\n",
       "      <th>3</th>\n",
       "      <td>40.773650</td>\n",
       "      <td>-73.963809</td>\n",
       "      <td>2014-03-25T19:54:10.000</td>\n",
       "      <td>2014-03-25T19:50:35.000</td>\n",
       "      <td>40.772541</td>\n",
       "      <td>-73.958471</td>\n",
       "      <td>0.0</td>\n",
       "      <td>0.30</td>\n",
       "    </tr>\n",
       "    <tr>\n",
       "      <th>4</th>\n",
       "      <td>40.749665</td>\n",
       "      <td>-73.991557</td>\n",
       "      <td>2014-07-07T16:12:00.000</td>\n",
       "      <td>2014-07-07T16:00:00.000</td>\n",
       "      <td>40.761137</td>\n",
       "      <td>-73.977500</td>\n",
       "      <td>0.0</td>\n",
       "      <td>1.34</td>\n",
       "    </tr>\n",
       "  </tbody>\n",
       "</table>\n",
       "</div>"
      ],
      "text/plain": [
       "   dropoff_latitude  dropoff_longitude         dropoff_datetime  \\\n",
       "0         40.770192         -73.918685  2014-09-20T01:59:00.000   \n",
       "1         40.767192         -73.971332  2014-05-19T10:43:00.000   \n",
       "2         40.760112         -73.972257  2014-05-07T07:05:17.000   \n",
       "3         40.773650         -73.963809  2014-03-25T19:54:10.000   \n",
       "4         40.749665         -73.991557  2014-07-07T16:12:00.000   \n",
       "\n",
       "           pickup_datetime  pickup_latitude  pickup_longitude  tip_amount  \\\n",
       "0  2014-09-20T01:33:00.000        40.735232        -73.991880         0.0   \n",
       "1  2014-05-19T10:35:00.000        40.772880        -73.981728         0.0   \n",
       "2  2014-05-07T06:55:34.000        40.777891        -73.952068         2.0   \n",
       "3  2014-03-25T19:50:35.000        40.772541        -73.958471         0.0   \n",
       "4  2014-07-07T16:00:00.000        40.761137        -73.977500         0.0   \n",
       "\n",
       "   trip_distance  \n",
       "0           6.27  \n",
       "1           0.82  \n",
       "2           1.90  \n",
       "3           0.30  \n",
       "4           1.34  "
      ]
     },
     "execution_count": 33,
     "metadata": {},
     "output_type": "execute_result"
    }
   ],
   "source": [
    "y_data_014.head()"
   ]
  },
  {
   "cell_type": "code",
   "execution_count": 34,
   "metadata": {
    "collapsed": false
   },
   "outputs": [
    {
     "data": {
      "text/html": [
       "<div>\n",
       "<table border=\"1\" class=\"dataframe\">\n",
       "  <thead>\n",
       "    <tr style=\"text-align: right;\">\n",
       "      <th></th>\n",
       "      <th>dropoff_latitude</th>\n",
       "      <th>dropoff_longitude</th>\n",
       "      <th>dropoff_datetime</th>\n",
       "      <th>pickup_datetime</th>\n",
       "      <th>pickup_latitude</th>\n",
       "      <th>pickup_longitude</th>\n",
       "      <th>tip_amount</th>\n",
       "      <th>trip_distance</th>\n",
       "    </tr>\n",
       "  </thead>\n",
       "  <tbody>\n",
       "    <tr>\n",
       "      <th>0</th>\n",
       "      <td>40.770192</td>\n",
       "      <td>-73.918685</td>\n",
       "      <td>2014-09-20T01:59:00.000</td>\n",
       "      <td>2014-09-20T01:33:00.000</td>\n",
       "      <td>40.735232</td>\n",
       "      <td>-73.991880</td>\n",
       "      <td>0.0</td>\n",
       "      <td>6.27</td>\n",
       "    </tr>\n",
       "    <tr>\n",
       "      <th>1</th>\n",
       "      <td>40.767192</td>\n",
       "      <td>-73.971332</td>\n",
       "      <td>2014-05-19T10:43:00.000</td>\n",
       "      <td>2014-05-19T10:35:00.000</td>\n",
       "      <td>40.772880</td>\n",
       "      <td>-73.981728</td>\n",
       "      <td>0.0</td>\n",
       "      <td>0.82</td>\n",
       "    </tr>\n",
       "    <tr>\n",
       "      <th>2</th>\n",
       "      <td>40.760112</td>\n",
       "      <td>-73.972257</td>\n",
       "      <td>2014-05-07T07:05:17.000</td>\n",
       "      <td>2014-05-07T06:55:34.000</td>\n",
       "      <td>40.777891</td>\n",
       "      <td>-73.952068</td>\n",
       "      <td>2.0</td>\n",
       "      <td>1.90</td>\n",
       "    </tr>\n",
       "    <tr>\n",
       "      <th>3</th>\n",
       "      <td>40.773650</td>\n",
       "      <td>-73.963809</td>\n",
       "      <td>2014-03-25T19:54:10.000</td>\n",
       "      <td>2014-03-25T19:50:35.000</td>\n",
       "      <td>40.772541</td>\n",
       "      <td>-73.958471</td>\n",
       "      <td>0.0</td>\n",
       "      <td>0.30</td>\n",
       "    </tr>\n",
       "    <tr>\n",
       "      <th>4</th>\n",
       "      <td>40.749665</td>\n",
       "      <td>-73.991557</td>\n",
       "      <td>2014-07-07T16:12:00.000</td>\n",
       "      <td>2014-07-07T16:00:00.000</td>\n",
       "      <td>40.761137</td>\n",
       "      <td>-73.977500</td>\n",
       "      <td>0.0</td>\n",
       "      <td>1.34</td>\n",
       "    </tr>\n",
       "  </tbody>\n",
       "</table>\n",
       "</div>"
      ],
      "text/plain": [
       "   dropoff_latitude  dropoff_longitude         dropoff_datetime  \\\n",
       "0         40.770192         -73.918685  2014-09-20T01:59:00.000   \n",
       "1         40.767192         -73.971332  2014-05-19T10:43:00.000   \n",
       "2         40.760112         -73.972257  2014-05-07T07:05:17.000   \n",
       "3         40.773650         -73.963809  2014-03-25T19:54:10.000   \n",
       "4         40.749665         -73.991557  2014-07-07T16:12:00.000   \n",
       "\n",
       "           pickup_datetime  pickup_latitude  pickup_longitude  tip_amount  \\\n",
       "0  2014-09-20T01:33:00.000        40.735232        -73.991880         0.0   \n",
       "1  2014-05-19T10:35:00.000        40.772880        -73.981728         0.0   \n",
       "2  2014-05-07T06:55:34.000        40.777891        -73.952068         2.0   \n",
       "3  2014-03-25T19:50:35.000        40.772541        -73.958471         0.0   \n",
       "4  2014-07-07T16:00:00.000        40.761137        -73.977500         0.0   \n",
       "\n",
       "   trip_distance  \n",
       "0           6.27  \n",
       "1           0.82  \n",
       "2           1.90  \n",
       "3           0.30  \n",
       "4           1.34  "
      ]
     },
     "execution_count": 34,
     "metadata": {},
     "output_type": "execute_result"
    }
   ],
   "source": [
    "#append the yellow taxi data-set with the green taxi data-set for 2014\n",
    "y_data_014.append(green_014)\n",
    "y_data_014.head()"
   ]
  },
  {
   "cell_type": "markdown",
   "metadata": {
    "collapsed": true
   },
   "source": [
    "E                \n",
    "-73.964212\n",
    "40.725870\n",
    "\n",
    "N\n",
    "-73.954141\n",
    "40.739439\n",
    "\n",
    "S\n",
    "40.569736\n",
    "-73.99999\n",
    "\n",
    "W\n",
    "40.626839\n",
    "-73.847699\n",
    "\n",
    "Mid = 40.638583 -73.954122"
   ]
  },
  {
   "cell_type": "code",
   "execution_count": 35,
   "metadata": {
    "collapsed": false
   },
   "outputs": [],
   "source": [
    "x_y = [40.638583, -73.954122]\n",
    "radius = np.sqrt((-73.954141 + 73.954122 )**2 + (40.739439 - 40.638583)**2)\n",
    "\n",
    "#check = ReWeek1tb2[ReWeek1tb2.DROPTIME <= '2016-11-1 05:00']"
   ]
  },
  {
   "cell_type": "code",
   "execution_count": 36,
   "metadata": {
    "collapsed": false
   },
   "outputs": [
    {
     "name": "stdout",
     "output_type": "stream",
     "text": [
      "(353, 8)\n",
      "(319, 8)\n",
      "(672, 8)\n"
     ]
    }
   ],
   "source": [
    "dropoff_brooklyn_10 = y_data_010[np.sqrt((y_data_010.dropoff_latitude - x_y[0])**2 \n",
    "                                     +(y_data_010.dropoff_longitude - x_y[1])**2) <= radius] \n",
    "\n",
    "pickup_brooklyn_10  = y_data_010[np.sqrt((y_data_010.pickup_latitude - x_y[0])**2 \n",
    "                                     +(y_data_010.pickup_longitude - x_y[1])**2) <= radius] \n",
    "\n",
    "trips_in_Bk_10 = pickup_brooklyn_10.append(dropoff_brooklyn_10)\n",
    "\n",
    "#trips_in_Bk.to_csv('trips_in_BK.CSV', sep='\\t')\n",
    "print (pickup_brooklyn_10.shape)\n",
    "print (dropoff_brooklyn_10.shape)\n",
    "print (trips_in_Bk_10.shape)"
   ]
  },
  {
   "cell_type": "code",
   "execution_count": 37,
   "metadata": {
    "collapsed": false
   },
   "outputs": [
    {
     "name": "stdout",
     "output_type": "stream",
     "text": [
      "(172, 8)\n",
      "(199, 8)\n",
      "(371, 8)\n"
     ]
    }
   ],
   "source": [
    "dropoff_brooklyn_11 = y_data_011[np.sqrt((y_data_011.dropoff_latitude - x_y[0])**2 \n",
    "                                     +(y_data_011.dropoff_longitude - x_y[1])**2) <= radius] \n",
    "\n",
    "pickup_brooklyn_11  = y_data_011[np.sqrt((y_data_011.pickup_latitude - x_y[0])**2 \n",
    "                                     +(y_data_011.pickup_longitude - x_y[1])**2) <= radius] \n",
    "\n",
    "trips_in_Bk_11 = pickup_brooklyn_11.append(dropoff_brooklyn_11)\n",
    "\n",
    "trips_in_Bk_11.to_csv('trips_in_BK_11.CSV', sep='\\t')\n",
    "print (pickup_brooklyn_11.shape)\n",
    "print (dropoff_brooklyn_11.shape)\n",
    "print (trips_in_Bk_11.shape)"
   ]
  },
  {
   "cell_type": "code",
   "execution_count": 38,
   "metadata": {
    "collapsed": false
   },
   "outputs": [
    {
     "name": "stdout",
     "output_type": "stream",
     "text": [
      "(149, 8)\n",
      "(161, 8)\n",
      "(310, 8)\n"
     ]
    }
   ],
   "source": [
    "dropoff_brooklyn_12 = y_data_012[np.sqrt((y_data_012.dropoff_latitude - x_y[0])**2 \n",
    "                                     +(y_data_012.dropoff_longitude - x_y[1])**2) <= radius] \n",
    "\n",
    "pickup_brooklyn_12  = y_data_012[np.sqrt((y_data_012.pickup_latitude - x_y[0])**2 \n",
    "                                     +(y_data_012.pickup_longitude - x_y[1])**2) <= radius] \n",
    "\n",
    "trips_in_Bk_12 = pickup_brooklyn_12.append(dropoff_brooklyn_12)\n",
    "\n",
    "trips_in_Bk_12.to_csv('trips_in_BK_12.CSV', sep='\\t')\n",
    "print (pickup_brooklyn_12.shape)\n",
    "print (dropoff_brooklyn_12.shape)\n",
    "print (trips_in_Bk_12.shape)"
   ]
  },
  {
   "cell_type": "code",
   "execution_count": 39,
   "metadata": {
    "collapsed": false
   },
   "outputs": [
    {
     "name": "stdout",
     "output_type": "stream",
     "text": [
      "(166, 8)\n",
      "(180, 8)\n",
      "(346, 8)\n"
     ]
    }
   ],
   "source": [
    "dropoff_brooklyn_13 = y_data_013[np.sqrt((y_data_013.dropoff_latitude - x_y[0])**2 \n",
    "                                     +(y_data_013.dropoff_longitude - x_y[1])**2) <= radius] \n",
    "\n",
    "pickup_brooklyn_13  = y_data_013[np.sqrt((y_data_013.pickup_latitude - x_y[0])**2 \n",
    "                                     +(y_data_013.pickup_longitude - x_y[1])**2) <= radius] \n",
    "\n",
    "trips_in_Bk_13 = pickup_brooklyn_13.append(dropoff_brooklyn_13)\n",
    "\n",
    "trips_in_Bk_13.to_csv('trips_in_BK_13.CSV', sep='\\t')\n",
    "print (pickup_brooklyn_13.shape)\n",
    "print (dropoff_brooklyn_13.shape)\n",
    "print (trips_in_Bk_13.shape)"
   ]
  },
  {
   "cell_type": "code",
   "execution_count": 40,
   "metadata": {
    "collapsed": false
   },
   "outputs": [
    {
     "name": "stdout",
     "output_type": "stream",
     "text": [
      "(152, 8)\n",
      "(177, 8)\n",
      "(329, 8)\n"
     ]
    }
   ],
   "source": [
    "dropoff_brooklyn_14 = y_data_013[np.sqrt((y_data_014.dropoff_latitude - x_y[0])**2 \n",
    "                                     +(y_data_014.dropoff_longitude - x_y[1])**2) <= radius] \n",
    "\n",
    "pickup_brooklyn_14  = y_data_013[np.sqrt((y_data_014.pickup_latitude - x_y[0])**2 \n",
    "                                     +(y_data_014.pickup_longitude - x_y[1])**2) <= radius] \n",
    "\n",
    "trips_in_Bk_14 = pickup_brooklyn_14.append(dropoff_brooklyn_14)\n",
    "\n",
    "trips_in_Bk_14.to_csv('trips_in_BK_14.CSV', sep='\\t')\n",
    "print (pickup_brooklyn_14.shape)\n",
    "print (dropoff_brooklyn_14.shape)\n",
    "print (trips_in_Bk_14.shape)"
   ]
  },
  {
   "cell_type": "code",
   "execution_count": 54,
   "metadata": {
    "collapsed": false
   },
   "outputs": [
    {
     "data": {
      "text/plain": [
       "2010    672\n",
       "2011    371\n",
       "2012    310\n",
       "2013    346\n",
       "2014    329\n",
       "dtype: int64"
      ]
     },
     "execution_count": 54,
     "metadata": {},
     "output_type": "execute_result"
    }
   ],
   "source": [
    "tb = {'2010': trips_in_Bk_10.count().iloc[0], \n",
    "      '2011': trips_in_Bk_11.count().iloc[0],\n",
    "      '2012': trips_in_Bk_12.count().iloc[0],\n",
    "      '2013': trips_in_Bk_13.count().iloc[0],\n",
    "      '2014': trips_in_Bk_14.count().iloc[0],}\n",
    "trips_in_Bk = pd.Series(tb)\n",
    "trips_in_Bk\n"
   ]
  },
  {
   "cell_type": "code",
   "execution_count": 60,
   "metadata": {
    "collapsed": false
   },
   "outputs": [
    {
     "data": {
      "image/png": "[encoded data removed]",
      "text/plain": [
       "<matplotlib.figure.Figure at 0x7f739a8a0198>"
      ]
     },
     "metadata": {},
     "output_type": "display_data"
    }
   ],
   "source": [
    "ax = trips_in_Bk.plot(kind='bar', title =\"Distribution of trips over time\", figsize=(14, 7), legend=True, fontsize=12)\n",
    "ax.set_xlabel(\"Years\", fontsize=12)\n",
    "ax.set_ylabel(\"Trips\", fontsize=12)\n",
    "plt.grid(True)\n",
    "plt.show()\n"
   ]
  },
  {
   "cell_type": "markdown",
   "metadata": {
    "collapsed": true
   },
   "source": [
    "[All_trips](https://smallchey.carto.com/builder/a8044a82-b7ff-11e6-8171-0ef7f98ade21/embed)\n",
    "\n",
    "[Brooklyn_Trips_2010](https://smallchey.carto.com/builder/a50b51d0-b7e2-11e6-a982-0ecd1babdde5/embed)\n",
    "\n",
    "[Brooklyn_Trips_2011](https://smallchey.carto.com/builder/4451bc96-b7ea-11e6-8dc3-0e98b61680bf/embed)\n",
    "\n",
    "[Brooklyn_Trips_2012](https://smallchey.carto.com/builder/7bba8d9a-b7ed-11e6-8c80-0e3a376473ab/embed)\n",
    "\n",
    "[Brooklyn_Trips_2013](https://smallchey.carto.com/builder/9e96c2d8-b7ee-11e6-af99-0ef24382571b/embed)\n",
    "\n",
    "[Brooklyn_Trips_2014](https://smallchey.carto.com/builder/67c3d06a-b7ef-11e6-b61c-0ef24382571b/embed)\n",
    "\n"
   ]
  },
  {
   "cell_type": "code",
   "execution_count": 44,
   "metadata": {
    "collapsed": false
   },
   "outputs": [
    {
     "data": {
      "text/html": [
       "<iframe id=\"igraph\" scrolling=\"no\" style=\"border:none;\" seamless=\"seamless\" src=\"https://plot.ly/~cjallow/4.embed\" height=\"525px\" width=\"100%\"></iframe>"
      ],
      "text/plain": [
       "<plotly.tools.PlotlyDisplay object>"
      ]
     },
     "execution_count": 44,
     "metadata": {},
     "output_type": "execute_result"
    }
   ],
   "source": [
    "\n",
    "\n",
    "scl = [ [0,\"rgb(5, 10, 172)\"],[0.35,\"rgb(40, 60, 190)\"],[0.5,\"rgb(70, 100, 245)\"],\\\n",
    "    [0.6,\"rgb(90, 120, 245)\"],[0.7,\"rgb(106, 137, 247)\"],[1,\"rgb(220, 220, 220)\"] ]\n",
    "\n",
    "data = [ dict(\n",
    "        type = 'scattergeo',\n",
    "        locationmode = 'USA-states',\n",
    "        lon = y_data_014['pickup_longitude'],\n",
    "        lat = y_data_014['pickup_latitude'],\n",
    "        #text = df['text'],\n",
    "        mode = 'markers',\n",
    "        marker = dict( \n",
    "            size = 8, \n",
    "            opacity = 0.8,\n",
    "            reversescale = True,\n",
    "            autocolorscale = True,\n",
    "            symbol = 'circle',\n",
    "            line = dict(\n",
    "                width=1,\n",
    "                color='rgba(102, 102, 102)'\n",
    "            ),\n",
    "            colorscale = scl,\n",
    "            cmin = 0,\n",
    "            #color = df_sum_arrivals['cnt'],\n",
    "            #cmax = df_sum_arrivals['cnt'].max(),\n",
    "            #colorbar=dict(\n",
    "               # title=\"Trips in BK\"\n",
    "            #)\n",
    "        ))]\n",
    "\n",
    "layout = dict(\n",
    "        title = 'Most trafficked US airports<br>(Hover for airport names)',\n",
    "        #colorbar = True,   \n",
    "        geo = dict(\n",
    "            scope='usa',\n",
    "            projection=dict( type='albers usa' ),\n",
    "            showland = True,\n",
    "            landcolor = \"rgb(250, 250, 250)\",\n",
    "            subunitcolor = \"rgb(217, 217, 217)\",\n",
    "            countrycolor = \"rgb(217, 217, 217)\",\n",
    "            countrywidth = 0.5,\n",
    "            subunitwidth = 1    \n",
    "        ),\n",
    "    )\n",
    "\n",
    "#fig = dict( data=data, layout=layout )\n",
    "#url = py.plot( fig, validate=False, filename='d3-airports' )\n",
    "fig = Figure( data=data, layout=layout )\n",
    "py.iplot(fig, filename='k')\n"
   ]
  },
  {
   "cell_type": "code",
   "execution_count": 45,
   "metadata": {
    "collapsed": false
   },
   "outputs": [
    {
     "data": {
      "image/png": "[encoded data removed]",
      "text/plain": [
       "<matplotlib.figure.Figure at 0x7f739e982748>"
      ]
     },
     "metadata": {},
     "output_type": "display_data"
    }
   ],
   "source": [
    "from mpl_toolkits.basemap import Basemap\n",
    "import matplotlib.pyplot as plt\n",
    "from mpl_toolkits.axes_grid1.inset_locator import zoomed_inset_axes\n",
    "from mpl_toolkits.axes_grid1.inset_locator import mark_inset\n",
    "import numpy as np\n",
    "\n",
    "fig = plt.figure()\n",
    "ax = fig.add_subplot(111)\n",
    "\n",
    "map = Basemap(projection='cyl', \n",
    "              lat_0=0, lon_0=0)\n",
    "map.drawmapboundary(fill_color='#7777ff')\n",
    "map.fillcontinents(color='#ddaa66', lake_color='#7777ff', zorder=0)\n",
    "map.drawcoastlines()\n",
    "\n",
    "lons = y_data_014.pickup_longitude.values\n",
    "lats = y_data_014.pickup_latitude.values\n",
    "#cases = np.array([1971, 7069, 6073, 4, 6, 20, 1, 1])\n",
    "#deaths = np.array([1192, 2964, 1250, 1, 5, 8, 0, 0])\n",
    "#places = np.array(['Guinea', 'Liberia', 'Sierra Leone','United States', 'Mali', 'Nigeria', 'Senegal', 'Spain'])\n",
    "\n",
    "x, y = map(lons, lats)\n",
    "\n",
    "map.scatter(x, y, c='r', alpha=0.5)\n",
    "\n",
    "axins = zoomed_inset_axes(ax, 7, loc=1)\n",
    "axins.set_xlim(-20, 0)\n",
    "axins.set_ylim(3, 18)\n",
    "\n",
    "plt.xticks(visible=False)\n",
    "plt.yticks(visible=False)\n",
    "\n",
    "map2 = Basemap(llcrnrlon=-74.260380,llcrnrlat=40.485808,\n",
    "               urcrnrlon=-73.699206,urcrnrlat=40.917691, ax=axins, ellps='WGS84',\n",
    "            resolution='h', area_thresh=0.6)\n",
    "\n",
    "map2.drawmapboundary(fill_color='#7777ff')\n",
    "map2.fillcontinents(color='#ddaa66', lake_color='#7777ff', zorder=0)\n",
    "map2.drawcoastlines()\n",
    "map2.drawcountries()\n",
    "map2.drawstates()\n",
    "\n",
    "map2.scatter(x, y, c='r', alpha=0.5)\n",
    "\n",
    "mark_inset(ax, axins, loc1=2, loc2=4, fc=\"none\", ec=\"0.5\")\n",
    "\n",
    "plt.show()"
   ]
  },
  {
   "cell_type": "code",
   "execution_count": 46,
   "metadata": {
    "collapsed": false
   },
   "outputs": [],
   "source": [
    "\n",
    "import matplotlib.pyplot as plt\n",
    "from matplotlib.patches import Polygon\n",
    "from mpl_toolkits.basemap import Basemap\n",
    "\n",
    "# create the map\n",
    "map = Basemap(llcrnrlon=-74.260380,llcrnrlat=40.485808,\n",
    "               urcrnrlon=-73.699206,urcrnrlat=40.917691, ax=axins, ellps='WGS84',\n",
    "            resolution='h', area_thresh=0.6)\n",
    "# load the shape file with \"states\"\n",
    "map.readshapefile('shapefiles/geo_export_7e54be64-4015-4221-9615-1045aa077da2',name = 'Brooklyn',drawbounds=True)\n",
    "\n",
    "# set a geo coordinate (for example, new york)\n",
    "lat = 0\n",
    "lon = 0\n",
    "x,y = map(lat, lon)\n",
    "\n",
    "# place it on the map\n",
    "map.plot(x, y, 'ro', markersize=4)\n",
    "map.drawmapboundary(fill_color='#7777ff')\n",
    "map.fillcontinents(color='#ddaa66', lake_color='#7777ff', zorder=0)\n",
    "map.drawcoastlines()\n",
    "\n",
    "plt.show()\n"
   ]
  },
  {
   "cell_type": "code",
   "execution_count": 47,
   "metadata": {
    "collapsed": false
   },
   "outputs": [
    {
     "data": {
      "image/png": "[encoded data removed]",
      "text/plain": [
       "<matplotlib.figure.Figure at 0x7f739eb6f6d8>"
      ]
     },
     "metadata": {},
     "output_type": "display_data"
    }
   ],
   "source": [
    "from mpl_toolkits.basemap import Basemap\n",
    "import matplotlib.pyplot as plt\n",
    "\n",
    "map = Basemap(llcrnrlon=-0.5,llcrnrlat=39.8,urcrnrlon=4.,urcrnrlat=43.,\n",
    "             resolution='i', projection='tmerc', lat_0 = 39.5, lon_0 = 1)\n",
    "\n",
    "map.drawmapboundary()\n",
    "map.fillcontinents(color='#ddaa66',lake_color='aqua')\n",
    "map.drawcoastlines()\n",
    "\n",
    "map.readshapefile('shapefiles/geo_export_7e54be64-4015-4221-9615-1045aa077da2', 'geo_export_7e54be64-4015-4221-9615-1045aa077da2', \n",
    "                 drawbounds=True)\n",
    "\n",
    "plt.show()"
   ]
  },
  {
   "cell_type": "code",
   "execution_count": 64,
   "metadata": {
    "collapsed": false
   },
   "outputs": [
    {
     "data": {
      "text/plain": [
       "(1000, 8)"
      ]
     },
     "execution_count": 64,
     "metadata": {},
     "output_type": "execute_result"
    }
   ],
   "source": [
    "y_data_014.to_csv('y_data_014.CSV', sep='\\t')\n",
    "y_data_014.shape"
   ]
  },
  {
   "cell_type": "code",
   "execution_count": 72,
   "metadata": {
    "collapsed": false
   },
   "outputs": [
    {
     "data": {
      "text/plain": [
       "'\"y =y_data_014.append(y_data_013)\\nx =y_data_012.append(y_data_011)\\nf1 = x.append(y)\\nf2 = f1.append(y_data_010)\\nf2.to_csv(\\'all.CSV\\', sep=\\'\\t\\')\\nf2.shape'"
      ]
     },
     "execution_count": 72,
     "metadata": {},
     "output_type": "execute_result"
    }
   ],
   "source": [
    "\"\"\"\"y =y_data_014.append(y_data_013)\n",
    "x =y_data_012.append(y_data_011)\n",
    "f1 = x.append(y)\n",
    "f2 = f1.append(y_data_010)\n",
    "f2.to_csv('all.CSV', sep='\\t')\n",
    "f2.shape\"\"\""
   ]
  },
  {
   "cell_type": "code",
   "execution_count": null,
   "metadata": {
    "collapsed": true
   },
   "outputs": [],
   "source": []
  }
 ],
 "metadata": {
  "anaconda-cloud": {},
  "kernelspec": {
   "display_name": "Python [default]",
   "language": "python",
   "name": "python3"
  },
  "language_info": {
   "codemirror_mode": {
    "name": "ipython",
    "version": 3
   },
   "file_extension": ".py",
   "mimetype": "text/x-python",
   "name": "python",
   "nbconvert_exporter": "python",
   "pygments_lexer": "ipython3",
   "version": "3.5.2"
  }
 },
 "nbformat": 4,
 "nbformat_minor": 0
}
