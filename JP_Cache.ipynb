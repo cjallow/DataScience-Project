{
 "cells": [
  {
   "cell_type": "markdown",
   "metadata": {},
   "source": [
    "# Cache \\$\\"
   ]
  },
  {
   "cell_type": "code",
   "execution_count": 1,
   "metadata": {
    "collapsed": true
   },
   "outputs": [],
   "source": [
    "%%script false #to omit this cell in the execution, but keep syntax highlighting\n",
    "import pandas as pd\n",
    "\n",
    "#added this because it's indicated as useful but not imported\n",
    "import urllib\n",
    "from zipfile import ZipFile\n",
    "import os"
   ]
  },
  {
   "cell_type": "markdown",
   "metadata": {},
   "source": [
    "I Definitely copy and pasted this next piece. I found it here:\n",
    "http://stackoverflow.com/a/13895723"
   ]
  },
  {
   "cell_type": "code",
   "execution_count": 2,
   "metadata": {
    "collapsed": true
   },
   "outputs": [],
   "source": [
    "%%script false #to omit this cell in the execution, but keep syntax highlighting\n",
    "def reporthook(blocknum, blocksize, totalsize):\n",
    "    readsofar = blocknum * blocksize\n",
    "    if totalsize > 0:\n",
    "        percent = readsofar * 1e2 / totalsize\n",
    "        s = \"\\r%5.1f%% %*d / %d\" % (\n",
    "            percent, len(str(totalsize)), readsofar, totalsize)\n",
    "        os.sys.stderr.write(s)\n",
    "        if readsofar >= totalsize: # near the end\n",
    "            os.sys.stderr.write(\"\\n\")\n",
    "    else: # total size is unknown\n",
    "        os.sys.stderr.write(\"read %d\\n\" % (readsofar,))"
   ]
  },
  {
   "cell_type": "code",
   "execution_count": 3,
   "metadata": {
    "collapsed": true
   },
   "outputs": [],
   "source": [
    "%%script false #to omit this cell in the execution, but keep syntax highlighting\n",
    "#my attempt at data caching\n",
    "#it tries to open a file int the data directory.\n",
    "#if the file does not exist, it downloads it and tries to open it again\n",
    "\n",
    "#Input: a list of links to the data files.\n",
    "#Output: a list of dataframes\n",
    "def get_cached_or_dl(url_list):\n",
    "    datadir = \"data\"\n",
    "    try:\n",
    "        os.makedirs(datadir)\n",
    "    except:\n",
    "        pass #directory already exists. :P\n",
    "\n",
    "    theList = []\n",
    "    for url in url_list:\n",
    "        filename = os.path.join(datadir,url.split(\"/\")[-1])\n",
    "        extension = filename.split(\".\")[-1].lower()\n",
    "        try:\n",
    "            if(extension == \"zip\"):\n",
    "                zipF = ZipFile(filename)\n",
    "                #Let's try opening every file in the zip archive\n",
    "                data = []\n",
    "                for f in zipF.namelist():\n",
    "                    fileinzip = os.path.join(datadir,f)\n",
    "                    extinzip = f.split(\".\")[-1]\n",
    "                    if(extinzip == \"csv\"):\n",
    "                        data.append(pd.read_csv(fileinzip))\n",
    "                    elif(extinzip == \"xls\" or extinzip == \"xlsx\"):\n",
    "                        data.append(pd.read_excel(fileinzip))\n",
    "                    elif(extinzip == \"json\"):\n",
    "                        data.append(pd.read_json(fileinzip))\n",
    "                    else:\n",
    "                        print(\"how to open \" + fileinzip + \" in zip?\")\n",
    "            elif(extension == \"csv\"):\n",
    "                data = [pd.read_csv(filename)]\n",
    "            elif(extension == \"xls\" or extension == \"xlsx\"):\n",
    "                data = [pd.read_excel(filename)]\n",
    "            elif(extension == \"json\"):\n",
    "                data = [pd.read_json(filename)]\n",
    "            else:\n",
    "                data = []\n",
    "                print(\"how to open \" + filename + \"?\")\n",
    "        except FileNotFoundError as e:\n",
    "            #if file doesn't exist, download it and try opening it again\n",
    "            if(extension == \"zip\"):\n",
    "                try:\n",
    "                    zipF = ZipFile(filename)\n",
    "                except FileNotFoundError as e:\n",
    "                    #the zip file needs to be downloaded\n",
    "                    urllib.request.urlretrieve(url, filename, reporthook)\n",
    "                    zipF = ZipFile(filename)\n",
    "            else:\n",
    "                urllib.request.urlretrieve(url, filename, reporthook)\n",
    "            \n",
    "            if(extension == \"zip\"):\n",
    "                #Let's extract and then open the files\n",
    "                zipF.extractall(datadir)\n",
    "                data = []\n",
    "                for f in zipF.namelist():\n",
    "                    fileinzip = os.path.join(datadir,f)\n",
    "                    extinzip = f.split(\".\")[-1]\n",
    "                    if(extinzip == \"csv\"):\n",
    "                        data.append(pd.read_csv(fileinzip))\n",
    "                    elif(extinzip == \"xls\" or extinzip == \"xlsx\"):\n",
    "                        data.append(pd.read_excel(fileinzip))\n",
    "                    elif(extinzip == \"json\"):\n",
    "                        data.append(pd.read_json(fileinzip))\n",
    "                    else:\n",
    "                        print(\"how to open \" + fileinzip + \" in zip?\")\n",
    "            elif(extension == \"csv\"):\n",
    "                data = [pd.read_csv(filename)]\n",
    "            elif(extension == \"xls\" or extension == \"xlsx\"):\n",
    "                data = [pd.read_excel(filename)]\n",
    "            elif(extension == \"json\"):\n",
    "                data = [pd.read_json(filename)]\n",
    "        theList.extend(data)\n",
    "    return theList"
   ]
  },
  {
   "cell_type": "markdown",
   "metadata": {},
   "source": [
    "### Some usage"
   ]
  },
  {
   "cell_type": "code",
   "execution_count": 4,
   "metadata": {
    "collapsed": true
   },
   "outputs": [],
   "source": [
    "from JP_Cache import get_cached_or_dl\n",
    "from IPython.display import display"
   ]
  },
  {
   "cell_type": "code",
   "execution_count": 5,
   "metadata": {
    "collapsed": true
   },
   "outputs": [],
   "source": [
    "some_data_files = [\"https://www.huduser.gov/portal/datasets/fmr/fmr2016p/asq_zctadata_2013_00000to19999.zip\",\n",
    "                 \"https://www.huduser.gov/portal/datasets/fmr/fmr2017/FY2017_hypothetical_safmrs.xlsx\"]"
   ]
  },
  {
   "cell_type": "code",
   "execution_count": 6,
   "metadata": {
    "collapsed": false
   },
   "outputs": [],
   "source": [
    "theList = get_cached_or_dl(some_data_files)"
   ]
  },
  {
   "cell_type": "code",
   "execution_count": 7,
   "metadata": {
    "collapsed": false
   },
   "outputs": [
    {
     "data": {
      "text/html": [
       "<div>\n",
       "<table border=\"1\" class=\"dataframe\">\n",
       "  <thead>\n",
       "    <tr style=\"text-align: right;\">\n",
       "      <th></th>\n",
       "      <th>zcta</th>\n",
       "      <th>geoid</th>\n",
       "      <th>name</th>\n",
       "      <th>tblid</th>\n",
       "      <th>stub</th>\n",
       "      <th>num_estimate</th>\n",
       "      <th>margin_error</th>\n",
       "      <th>count_40p</th>\n",
       "      <th>actual_count</th>\n",
       "    </tr>\n",
       "  </thead>\n",
       "  <tbody>\n",
       "    <tr>\n",
       "      <th>0</th>\n",
       "      <td>601</td>\n",
       "      <td>H2500US00601</td>\n",
       "      <td>ZCTA5 00601</td>\n",
       "      <td>S5413T</td>\n",
       "      <td>No bedroom</td>\n",
       "      <td>0</td>\n",
       "      <td>20</td>\n",
       "      <td>0.0</td>\n",
       "      <td>0.0</td>\n",
       "    </tr>\n",
       "    <tr>\n",
       "      <th>1</th>\n",
       "      <td>601</td>\n",
       "      <td>H2500US00601</td>\n",
       "      <td>ZCTA5 00601</td>\n",
       "      <td>S5413T</td>\n",
       "      <td>With cash rent:</td>\n",
       "      <td>0</td>\n",
       "      <td>20</td>\n",
       "      <td>NaN</td>\n",
       "      <td>NaN</td>\n",
       "    </tr>\n",
       "    <tr>\n",
       "      <th>2</th>\n",
       "      <td>601</td>\n",
       "      <td>H2500US00601</td>\n",
       "      <td>ZCTA5 00601</td>\n",
       "      <td>S5413T</td>\n",
       "      <td>Less than $100</td>\n",
       "      <td>0</td>\n",
       "      <td>20</td>\n",
       "      <td>NaN</td>\n",
       "      <td>NaN</td>\n",
       "    </tr>\n",
       "    <tr>\n",
       "      <th>3</th>\n",
       "      <td>601</td>\n",
       "      <td>H2500US00601</td>\n",
       "      <td>ZCTA5 00601</td>\n",
       "      <td>S5413T</td>\n",
       "      <td>$100 to $149</td>\n",
       "      <td>0</td>\n",
       "      <td>20</td>\n",
       "      <td>NaN</td>\n",
       "      <td>NaN</td>\n",
       "    </tr>\n",
       "    <tr>\n",
       "      <th>4</th>\n",
       "      <td>601</td>\n",
       "      <td>H2500US00601</td>\n",
       "      <td>ZCTA5 00601</td>\n",
       "      <td>S5413T</td>\n",
       "      <td>$150 to $199</td>\n",
       "      <td>0</td>\n",
       "      <td>20</td>\n",
       "      <td>NaN</td>\n",
       "      <td>NaN</td>\n",
       "    </tr>\n",
       "  </tbody>\n",
       "</table>\n",
       "</div>"
      ],
      "text/plain": [
       "   zcta         geoid         name   tblid             stub  num_estimate  \\\n",
       "0   601  H2500US00601  ZCTA5 00601  S5413T       No bedroom             0   \n",
       "1   601  H2500US00601  ZCTA5 00601  S5413T  With cash rent:             0   \n",
       "2   601  H2500US00601  ZCTA5 00601  S5413T   Less than $100             0   \n",
       "3   601  H2500US00601  ZCTA5 00601  S5413T     $100 to $149             0   \n",
       "4   601  H2500US00601  ZCTA5 00601  S5413T     $150 to $199             0   \n",
       "\n",
       "   margin_error  count_40p  actual_count  \n",
       "0            20        0.0           0.0  \n",
       "1            20        NaN           NaN  \n",
       "2            20        NaN           NaN  \n",
       "3            20        NaN           NaN  \n",
       "4            20        NaN           NaN  "
      ]
     },
     "metadata": {},
     "output_type": "display_data"
    },
    {
     "data": {
      "text/html": [
       "<div>\n",
       "<table border=\"1\" class=\"dataframe\">\n",
       "  <thead>\n",
       "    <tr style=\"text-align: right;\">\n",
       "      <th></th>\n",
       "      <th>zip_code</th>\n",
       "      <th>metro_code</th>\n",
       "      <th>metro_name</th>\n",
       "      <th>area_rent_br0</th>\n",
       "      <th>area_rent_br1</th>\n",
       "      <th>area_rent_br2</th>\n",
       "      <th>area_rent_br3</th>\n",
       "      <th>area_rent_br4</th>\n",
       "    </tr>\n",
       "  </thead>\n",
       "  <tbody>\n",
       "    <tr>\n",
       "      <th>0</th>\n",
       "      <td>76437</td>\n",
       "      <td>10180</td>\n",
       "      <td>Abilene, TX MSA</td>\n",
       "      <td>470</td>\n",
       "      <td>510</td>\n",
       "      <td>680</td>\n",
       "      <td>850</td>\n",
       "      <td>1130</td>\n",
       "    </tr>\n",
       "    <tr>\n",
       "      <th>1</th>\n",
       "      <td>76443</td>\n",
       "      <td>10180</td>\n",
       "      <td>Abilene, TX MSA</td>\n",
       "      <td>470</td>\n",
       "      <td>510</td>\n",
       "      <td>680</td>\n",
       "      <td>850</td>\n",
       "      <td>1130</td>\n",
       "    </tr>\n",
       "    <tr>\n",
       "      <th>2</th>\n",
       "      <td>76464</td>\n",
       "      <td>10180</td>\n",
       "      <td>Abilene, TX MSA</td>\n",
       "      <td>470</td>\n",
       "      <td>510</td>\n",
       "      <td>680</td>\n",
       "      <td>850</td>\n",
       "      <td>1130</td>\n",
       "    </tr>\n",
       "    <tr>\n",
       "      <th>3</th>\n",
       "      <td>76469</td>\n",
       "      <td>10180</td>\n",
       "      <td>Abilene, TX MSA</td>\n",
       "      <td>500</td>\n",
       "      <td>550</td>\n",
       "      <td>730</td>\n",
       "      <td>910</td>\n",
       "      <td>1220</td>\n",
       "    </tr>\n",
       "    <tr>\n",
       "      <th>4</th>\n",
       "      <td>79501</td>\n",
       "      <td>10180</td>\n",
       "      <td>Abilene, TX MSA</td>\n",
       "      <td>470</td>\n",
       "      <td>510</td>\n",
       "      <td>680</td>\n",
       "      <td>850</td>\n",
       "      <td>1130</td>\n",
       "    </tr>\n",
       "  </tbody>\n",
       "</table>\n",
       "</div>"
      ],
      "text/plain": [
       "   zip_code  metro_code       metro_name  area_rent_br0  area_rent_br1  \\\n",
       "0     76437       10180  Abilene, TX MSA            470            510   \n",
       "1     76443       10180  Abilene, TX MSA            470            510   \n",
       "2     76464       10180  Abilene, TX MSA            470            510   \n",
       "3     76469       10180  Abilene, TX MSA            500            550   \n",
       "4     79501       10180  Abilene, TX MSA            470            510   \n",
       "\n",
       "   area_rent_br2  area_rent_br3  area_rent_br4  \n",
       "0            680            850           1130  \n",
       "1            680            850           1130  \n",
       "2            680            850           1130  \n",
       "3            730            910           1220  \n",
       "4            680            850           1130  "
      ]
     },
     "metadata": {},
     "output_type": "display_data"
    }
   ],
   "source": [
    "#the return was a list of dataframes\n",
    "for df in theList:\n",
    "    display(df.head())"
   ]
  }
 ],
 "metadata": {
  "anaconda-cloud": {},
  "kernelspec": {
   "display_name": "Python [DataScience-Project]",
   "language": "python",
   "name": "Python [DataScience-Project]"
  },
  "language_info": {
   "codemirror_mode": {
    "name": "ipython",
    "version": 3
   },
   "file_extension": ".py",
   "mimetype": "text/x-python",
   "name": "python",
   "nbconvert_exporter": "python",
   "pygments_lexer": "ipython3",
   "version": "3.5.2"
  }
 },
 "nbformat": 4,
 "nbformat_minor": 1
}
