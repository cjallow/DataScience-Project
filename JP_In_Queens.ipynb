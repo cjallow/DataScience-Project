{
 "cells": [
  {
   "cell_type": "code",
   "execution_count": null,
   "metadata": {
    "collapsed": false
   },
   "outputs": [],
   "source": [
    "# special IPython command to prepare the notebook for matplotlib\n",
    "%matplotlib inline \n",
    "\n",
    "import numpy as np\n",
    "import pandas as pd\n",
    "import matplotlib.pyplot as plt\n",
    "import geopandas as gpd\n",
    "from shapely import geometry as geom\n",
    "import plotly.plotly as py\n",
    "import sys\n",
    " \n",
    "\n",
    "#added this because it's indicated as useful but not imported\n",
    "import urllib\n",
    "from zipfile import ZipFile\n",
    "from io import BytesIO\n",
    "import os\n",
    "import seaborn as sns\n",
    "import matplotlib.pyplot as plt\n",
    "import json\n",
    "from bs4 import BeautifulSoup as bs\n",
    "import re\n",
    "\n",
    "from matplotlib import animation, rc\n",
    "from IPython.display import display, HTML"
   ]
  },
  {
   "cell_type": "code",
   "execution_count": null,
   "metadata": {
    "collapsed": false
   },
   "outputs": [],
   "source": [
    "with open(\"keys.json\") as json_file:    \n",
    "    keys = json.load(json_file)\n",
    "census_key = keys[\"census\"][\"api_key\"]"
   ]
  },
  {
   "cell_type": "code",
   "execution_count": null,
   "metadata": {
    "collapsed": true
   },
   "outputs": [],
   "source": [
    "census_vars = json.loads(urllib.request.urlopen(\"http://api.census.gov/data/2014/acs5/variables.json\").read().decode('utf-8'))[\"variables\"]\n",
    "income_brackets = dict([(key, value[\"label\"]) for key, value in census_vars.items() if \"B19001_\" in key and key[-1] == \"E\"])"
   ]
  },
  {
   "cell_type": "code",
   "execution_count": null,
   "metadata": {
    "collapsed": true
   },
   "outputs": [],
   "source": [
    "from us import states\n",
    "from census import Census\n",
    "\n",
    "def getincome20xx(income_brackets, years, census_key, zips):\n",
    "    c = Census(census_key)\n",
    "    df = pd.DataFrame()\n",
    "    for year in years:\n",
    "        tempget = c.acs5.zipcode((tuple([key[0] for key in income_brackets.items()])), Census.ALL, year=year)\n",
    "        tempDF = pd.DataFrame(tempget)\n",
    "        tempDF.columns = [income_brackets[tempDF.columns[i]] if i < len(income_brackets) else tempDF.columns[i] for i in range(len(tempDF.columns))]\n",
    "        tempDF = tempDF[tempDF[tempDF.columns[-1]].isin(zips)]\n",
    "        tempDF[\"year\"] = year\n",
    "        df = df.append(tempDF)\n",
    "    return df"
   ]
  },
  {
   "cell_type": "markdown",
   "metadata": {},
   "source": [
    "I forgot I wrote this. dope. :D"
   ]
  },
  {
   "cell_type": "code",
   "execution_count": null,
   "metadata": {
    "collapsed": false
   },
   "outputs": [],
   "source": [
    "zipgeojson = \"https://github.com/YuHuaCheng/Map/raw/master/data/nyc-zip-code-tabulation-areas-polygons.geojson\"\n",
    "\n",
    "# save the NYC map data under \"data\" folder\n",
    "zipsfile = os.path.join(\"data\",zipgeojson.split(\"/\")[-1])\n",
    "\n",
    "# read the saved NYC map data file\n",
    "try:\n",
    "    NY = gpd.read_file(zipsfile) # NYC map data with Zipcode\n",
    "except OSError as e:\n",
    "    urllib.request.urlretrieve(zipgeojson, zipsfile)\n",
    "    \n",
    "    #zips geojson had a var assignment that caused problems\n",
    "    fin      = open(zipsfile)\n",
    "    \n",
    "    lines    = [line for line in fin]\n",
    "    lines[0] = lines[0].replace(\"var nycdata = \", \"\")\n",
    "    \n",
    "    fin.close()\n",
    "    \n",
    "    fout = open(zipsfile, \"w\")\n",
    "    for line in lines:\n",
    "        fout.write(line)\n",
    "    fout.flush()\n",
    "    fout.close()\n",
    "    \n",
    "    NY = gpd.read_file(zipsfile)\n",
    "    \n",
    "NY.shape # NYC is composed of 262 subarea on the map data"
   ]
  },
  {
   "cell_type": "code",
   "execution_count": null,
   "metadata": {
    "collapsed": false
   },
   "outputs": [],
   "source": [
    "QN = NY[NY.borough == \"Queens\"]\n",
    "zips_QN = QN.postalCode.unique()"
   ]
  },
  {
   "cell_type": "code",
   "execution_count": null,
   "metadata": {
    "collapsed": true
   },
   "outputs": [],
   "source": [
    "theDF = getincome20xx(income_brackets,range(2011,2015), census_key, zips_QN)"
   ]
  },
  {
   "cell_type": "code",
   "execution_count": null,
   "metadata": {
    "collapsed": false
   },
   "outputs": [],
   "source": [
    "newcols = [\"total\", \"0\", \"10\", \"15\", \"20\", \"25\", \"30\", \"35\", \"40\", \"45\", \"50\", \"60\", \"75\", \"100\", \"125\", \"150\", \"200\", \"ZIP\", \"year\"]\n",
    "theDF.columns = newcols\n",
    "theDF[newcols] = theDF[newcols].apply(pd.to_numeric)\n",
    "theDF.head()"
   ]
  },
  {
   "cell_type": "code",
   "execution_count": null,
   "metadata": {
    "collapsed": true
   },
   "outputs": [],
   "source": [
    "theDF.to_csv(os.path.join('data', \"QN_incomeDF.csv\"))"
   ]
  },
  {
   "cell_type": "code",
   "execution_count": null,
   "metadata": {
    "collapsed": true
   },
   "outputs": [],
   "source": [
    "QN_files = [\"https://www.huduser.gov/portal/datasets/fmr/fmr2010f/FY2010_4050_Final_PostRDDs.xls\",\n",
    "         \"https://www.huduser.gov/portal/datasets/fmr/fmr2011f/fy2011_equiv_zc_rents_acs.xls\",\n",
    "         \"https://www.huduser.gov/portal/datasets/fmr/fmr2012f/small_area_fmrs_fy2012.xls\",\n",
    "         \"https://www.huduser.gov/portal/datasets/fmr/fmr2013p/small_area_fmrs_fy2013.xls\",\n",
    "         \"https://www.huduser.gov/portal/datasets/fmr/fmr2014f/small_area_fmrs_fy2014.xls\"]"
   ]
  },
  {
   "cell_type": "code",
   "execution_count": null,
   "metadata": {
    "collapsed": true
   },
   "outputs": [],
   "source": [
    "from JP_Cache import get_cached_or_dl\n",
    "from IPython.display import display"
   ]
  },
  {
   "cell_type": "code",
   "execution_count": null,
   "metadata": {
    "collapsed": true
   },
   "outputs": [],
   "source": [
    "rent_per_year = get_cached_or_dl(QN_files)"
   ]
  },
  {
   "cell_type": "code",
   "execution_count": null,
   "metadata": {
    "collapsed": true
   },
   "outputs": [],
   "source": [
    "for i in range(len(rent_per_year)):\n",
    "    for j in rent_per_year[i].columns.values:\n",
    "        if j == 'zip' or j == 'ZIP':\n",
    "            rent_per_year[i].rename(columns={j: 'ZIP' }, inplace=True)\n",
    "        if j == 'countyname' or j == 'County Name' or j == 'County_Name':\n",
    "            rent_per_year[i].rename(columns={j: 'CountyName' }, inplace=True)\n",
    "        if j == 'State Name' or j == 'state_alpha':\n",
    "            rent_per_year[i].rename(columns={j: 'StateName' }, inplace=True)\n",
    "        if j == 'area_rent_br0' or j == 'fmr0':\n",
    "            rent_per_year[i].rename(columns={j: 'rent0' }, inplace=True)\n",
    "        if j == 'area_rent_br1' or j == 'fmr1':\n",
    "            rent_per_year[i].rename(columns={j: 'rent1' }, inplace=True)\n",
    "        if j == 'area_rent_br2' or j == 'fmr2':\n",
    "            rent_per_year[i].rename(columns={j: 'rent2' }, inplace=True)\n",
    "        if j == 'area_rent_br3' or j == 'fmr3':\n",
    "            rent_per_year[i].rename(columns={j: 'rent3' }, inplace=True)\n",
    "        if j == 'area_rent_br4' or j == 'fmr4':\n",
    "            rent_per_year[i].rename(columns={j: 'rent4' }, inplace=True)\n",
    "        if j == 'state':\n",
    "            rent_per_year[i].rename(columns={j: 'State' }, inplace=True)"
   ]
  },
  {
   "cell_type": "code",
   "execution_count": null,
   "metadata": {
    "collapsed": false
   },
   "outputs": [],
   "source": [
    "#df_14 = \n",
    "#df_14 = df_14[['StateName','CountyName','rent0','rent1','rent2','rent3','rent4','ZIP']]\n",
    "#df_14.head()"
   ]
  },
  {
   "cell_type": "code",
   "execution_count": null,
   "metadata": {
    "collapsed": false
   },
   "outputs": [],
   "source": [
    "rent_per_year[1][\"year\"] = 2011\n",
    "rent_per_year[2][\"year\"] = 2012\n",
    "rent_per_year[3][\"year\"] = 2013\n",
    "rent_per_year[4][\"year\"] = 2014\n",
    "rent_per_year = rent_per_year[1:] # drop 2010"
   ]
  },
  {
   "cell_type": "code",
   "execution_count": null,
   "metadata": {
    "collapsed": false
   },
   "outputs": [],
   "source": [
    "rent_per_year_QN = []\n",
    "for rentdf in rent_per_year:\n",
    "    #display(rentdf.head())\n",
    "    rent_per_year_QN.append(rentdf[(rentdf.CountyName == 'Queens County') & (rentdf.State == 36)])"
   ]
  },
  {
   "cell_type": "code",
   "execution_count": null,
   "metadata": {
    "collapsed": false
   },
   "outputs": [],
   "source": [
    "rent_per_year_QN[0][\"StateName\"] = \"New York\""
   ]
  },
  {
   "cell_type": "code",
   "execution_count": null,
   "metadata": {
    "collapsed": false
   },
   "outputs": [],
   "source": [
    "for rentdf in rent_per_year_QN:\n",
    "    display(rentdf.head())"
   ]
  },
  {
   "cell_type": "code",
   "execution_count": null,
   "metadata": {
    "collapsed": false
   },
   "outputs": [],
   "source": [
    "rentQN = pd.DataFrame()\n",
    "for rentdf in rent_per_year_QN:\n",
    "    tempdf = rentdf[['State','CountyName','rent0','rent1','rent2','rent3','rent4','ZIP', 'year']]\n",
    "    print((len(rentdf), len(tempdf)))\n",
    "    rentQN = rentQN.append(tempdf, ignore_index=True)\n",
    "print(len(rentQN))\n",
    "rentQN.head()"
   ]
  },
  {
   "cell_type": "code",
   "execution_count": null,
   "metadata": {
    "collapsed": false
   },
   "outputs": [],
   "source": [
    "rentQN[['rent0','rent1','rent2','rent3','rent4',\"ZIP\", \"year\"]] = rentQN[['rent0','rent1','rent2','rent3','rent4',\"ZIP\", \"year\"]].apply(pd.to_numeric)\n",
    "rentQN.head()"
   ]
  },
  {
   "cell_type": "code",
   "execution_count": null,
   "metadata": {
    "collapsed": true
   },
   "outputs": [],
   "source": [
    "rentQN.to_csv(os.path.join('data', \"QN_rentDF.csv\"))"
   ]
  },
  {
   "cell_type": "code",
   "execution_count": null,
   "metadata": {
    "collapsed": false
   },
   "outputs": [],
   "source": [
    "merged = pd.merge(theDF,rentQN,how = \"inner\", on =['year', 'ZIP'])\n",
    "merged.head()"
   ]
  },
  {
   "cell_type": "code",
   "execution_count": null,
   "metadata": {
    "collapsed": true
   },
   "outputs": [],
   "source": [
    "merged.to_csv(\"data/QN_merged.csv\")"
   ]
  },
  {
   "cell_type": "code",
   "execution_count": null,
   "metadata": {
    "collapsed": false
   },
   "outputs": [],
   "source": [
    "theDF.head()"
   ]
  },
  {
   "cell_type": "markdown",
   "metadata": {},
   "source": [
    "Tutorial: http://seaborn.pydata.org/tutorial.html"
   ]
  },
  {
   "cell_type": "code",
   "execution_count": null,
   "metadata": {
    "collapsed": false
   },
   "outputs": [],
   "source": [
    "\n",
    "fd = merged.groupby(\"year\").size().plot(kind=\"bar\", figsize=(6, 6))\n",
    "\n",
    "fd.set_yticklabels([])  # turn off y tick labels\n",
    "\n",
    "# resize x label\n",
    "xlabel = fd.xaxis.get_label()\n",
    "xlabel.set_fontsize(24)\n",
    "\n",
    "# resize x tick labels\n",
    "lb = fd.xaxis.get_ticklabels()\n",
    "[label.set_fontsize(24) for label in lb];"
   ]
  },
  {
   "cell_type": "code",
   "execution_count": null,
   "metadata": {
    "collapsed": false
   },
   "outputs": [],
   "source": [
    "g = sns.FacetGrid(merged, col=\"year\", size=20, aspect=1)\n",
    "g.map(sns.barplot, \"ZIP\", \"total\")\n",
    "g.set_xticklabels(rotation=90)"
   ]
  },
  {
   "cell_type": "code",
   "execution_count": null,
   "metadata": {
    "collapsed": false
   },
   "outputs": [],
   "source": [
    "sns.factorplot(\"ZIP\", \"year\", hue=\"total\", col=\"45\", data=merged)"
   ]
  },
  {
   "cell_type": "code",
   "execution_count": null,
   "metadata": {
    "collapsed": true
   },
   "outputs": [],
   "source": []
  }
 ],
 "metadata": {
  "anaconda-cloud": {},
  "kernelspec": {
   "display_name": "Python [DataScience-Project]",
   "language": "python",
   "name": "Python [DataScience-Project]"
  },
  "language_info": {
   "codemirror_mode": {
    "name": "ipython",
    "version": 3
   },
   "file_extension": ".py",
   "mimetype": "text/x-python",
   "name": "python",
   "nbconvert_exporter": "python",
   "pygments_lexer": "ipython3",
   "version": "3.5.2"
  }
 },
 "nbformat": 4,
 "nbformat_minor": 0
}
