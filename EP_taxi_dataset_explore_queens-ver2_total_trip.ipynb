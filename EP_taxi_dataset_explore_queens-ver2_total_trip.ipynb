{
 "cells": [
  {
   "cell_type": "code",
   "execution_count": 49,
   "metadata": {
    "collapsed": true
   },
   "outputs": [],
   "source": [
    "import pandas as pd\n",
    "#import requests \n",
    "#from io import StringIO\n",
    "#from io import BytesIO\n",
    "import numpy as np\n",
    "import matplotlib.pyplot as plt\n",
    "import plotly.plotly as py\n",
    "import geopandas as gpd\n",
    "#from shapely import ops\n",
    "from shapely import geometry as geom\n",
    "import os\n",
    "import urllib\n",
    "#from sjoin import sjoin\n",
    "%matplotlib inline"
   ]
  },
  {
   "cell_type": "markdown",
   "metadata": {},
   "source": [
    "### 1. Get map data for Queens"
   ]
  },
  {
   "cell_type": "code",
   "execution_count": 50,
   "metadata": {
    "collapsed": false
   },
   "outputs": [
    {
     "data": {
      "text/plain": [
       "(262, 12)"
      ]
     },
     "execution_count": 50,
     "metadata": {},
     "output_type": "execute_result"
    }
   ],
   "source": [
    "# map data for NYC\n",
    "zipgeojson = \"https://github.com/YuHuaCheng/Map/raw/master/data/nyc-zip-code-tabulation-areas-polygons.geojson\"\n",
    "\n",
    "# save the NYC map data under \"data\" folder\n",
    "zipsfile = os.path.join(\"data\",zipgeojson.split(\"/\")[-1])\n",
    "\n",
    "# read the saved NYC map data file\n",
    "try:\n",
    "    NZ = gpd.read_file(zipsfile) # NYC map data with Zipcode\n",
    "except OSError as e:\n",
    "    urllib.request.urlretrieve(zipgeojson, zipsfile)\n",
    "    \n",
    "    #zips geojson had a var assignment that caused problems\n",
    "    fin      = open(zipsfile)\n",
    "    \n",
    "    lines    = [line for line in fin]\n",
    "    lines[0] = lines[0].replace(\"var nycdata = \", \"\")\n",
    "    \n",
    "    fin.close()\n",
    "    \n",
    "    fout = open(zipsfile, \"w\")\n",
    "    for line in lines:\n",
    "        fout.write(line)\n",
    "    fout.flush()\n",
    "    fout.close()\n",
    "    \n",
    "    NZ = gpd.read_file(zipsfile)\n",
    "    \n",
    "NZ.shape # NYC is composed of 262 subarea on the map data"
   ]
  },
  {
   "cell_type": "code",
   "execution_count": 51,
   "metadata": {
    "collapsed": false
   },
   "outputs": [],
   "source": [
    "# NYC map data with Zipcode\n",
    "#NZ.head(3)"
   ]
  },
  {
   "cell_type": "code",
   "execution_count": 52,
   "metadata": {
    "collapsed": false
   },
   "outputs": [],
   "source": [
    "# draw the map data for New York City\n",
    "#NZ.plot(figsize=(14,7))\n",
    "#plt.title(\"The Geography of New York City\")\n",
    "#plt.xlabel(\"longitude\")\n",
    "#plt.ylabel(\"latitude\")"
   ]
  },
  {
   "cell_type": "code",
   "execution_count": 53,
   "metadata": {
    "collapsed": true
   },
   "outputs": [],
   "source": [
    "# seperate Queens map data from NYC map data\n",
    "QN = NZ[NZ.borough=='Brooklyn']\n",
    "QN = QN.reset_index()"
   ]
  },
  {
   "cell_type": "code",
   "execution_count": 54,
   "metadata": {
    "collapsed": false
   },
   "outputs": [
    {
     "data": {
      "text/html": [
       "<div>\n",
       "<table border=\"1\" class=\"dataframe\">\n",
       "  <thead>\n",
       "    <tr style=\"text-align: right;\">\n",
       "      <th></th>\n",
       "      <th>index</th>\n",
       "      <th>@id</th>\n",
       "      <th>BLDGpostalCode</th>\n",
       "      <th>CTY_FIPS</th>\n",
       "      <th>OBJECTID</th>\n",
       "      <th>PO_NAME</th>\n",
       "      <th>STATE</th>\n",
       "      <th>ST_FIPS</th>\n",
       "      <th>Shape_Area</th>\n",
       "      <th>Shape_Leng</th>\n",
       "      <th>borough</th>\n",
       "      <th>geometry</th>\n",
       "      <th>postalCode</th>\n",
       "    </tr>\n",
       "  </thead>\n",
       "  <tbody>\n",
       "    <tr>\n",
       "      <th>0</th>\n",
       "      <td>21</td>\n",
       "      <td>http://nyc.pediacities.com/Resource/PostalCode...</td>\n",
       "      <td>0</td>\n",
       "      <td>047</td>\n",
       "      <td>22</td>\n",
       "      <td>Brooklyn</td>\n",
       "      <td>NY</td>\n",
       "      <td>36</td>\n",
       "      <td>3.858048e+07</td>\n",
       "      <td>30947.536928</td>\n",
       "      <td>Brooklyn</td>\n",
       "      <td>POLYGON ((-73.93822325191614 40.68389331961758...</td>\n",
       "      <td>11221</td>\n",
       "    </tr>\n",
       "    <tr>\n",
       "      <th>1</th>\n",
       "      <td>25</td>\n",
       "      <td>http://nyc.pediacities.com/Resource/PostalCode...</td>\n",
       "      <td>0</td>\n",
       "      <td>047</td>\n",
       "      <td>26</td>\n",
       "      <td>Brooklyn</td>\n",
       "      <td>NY</td>\n",
       "      <td>36</td>\n",
       "      <td>2.647823e+07</td>\n",
       "      <td>26472.771070</td>\n",
       "      <td>Brooklyn</td>\n",
       "      <td>POLYGON ((-73.94564165707669 40.69203346946512...</td>\n",
       "      <td>11216</td>\n",
       "    </tr>\n",
       "    <tr>\n",
       "      <th>2</th>\n",
       "      <td>27</td>\n",
       "      <td>http://nyc.pediacities.com/Resource/PostalCode...</td>\n",
       "      <td>0</td>\n",
       "      <td>047</td>\n",
       "      <td>28</td>\n",
       "      <td>Brooklyn</td>\n",
       "      <td>NY</td>\n",
       "      <td>36</td>\n",
       "      <td>3.787169e+07</td>\n",
       "      <td>30234.156913</td>\n",
       "      <td>Brooklyn</td>\n",
       "      <td>POLYGON ((-73.93822325191614 40.68389331961758...</td>\n",
       "      <td>11233</td>\n",
       "    </tr>\n",
       "  </tbody>\n",
       "</table>\n",
       "</div>"
      ],
      "text/plain": [
       "   index                                                @id  BLDGpostalCode  \\\n",
       "0     21  http://nyc.pediacities.com/Resource/PostalCode...               0   \n",
       "1     25  http://nyc.pediacities.com/Resource/PostalCode...               0   \n",
       "2     27  http://nyc.pediacities.com/Resource/PostalCode...               0   \n",
       "\n",
       "  CTY_FIPS  OBJECTID   PO_NAME STATE ST_FIPS    Shape_Area    Shape_Leng  \\\n",
       "0      047        22  Brooklyn    NY      36  3.858048e+07  30947.536928   \n",
       "1      047        26  Brooklyn    NY      36  2.647823e+07  26472.771070   \n",
       "2      047        28  Brooklyn    NY      36  3.787169e+07  30234.156913   \n",
       "\n",
       "    borough                                           geometry postalCode  \n",
       "0  Brooklyn  POLYGON ((-73.93822325191614 40.68389331961758...      11221  \n",
       "1  Brooklyn  POLYGON ((-73.94564165707669 40.69203346946512...      11216  \n",
       "2  Brooklyn  POLYGON ((-73.93822325191614 40.68389331961758...      11233  "
      ]
     },
     "execution_count": 54,
     "metadata": {},
     "output_type": "execute_result"
    }
   ],
   "source": [
    "QN.head(3)"
   ]
  },
  {
   "cell_type": "code",
   "execution_count": 55,
   "metadata": {
    "collapsed": false
   },
   "outputs": [
    {
     "name": "stdout",
     "output_type": "stream",
     "text": [
      "number of zip codes in Queens:  39\n"
     ]
    }
   ],
   "source": [
    "# number of different zipcodes in Queens\n",
    "print(\"number of zip codes in Queens: \", QN.postalCode.unique().shape[0]) # 67\n",
    "\n",
    "# number of shape areas in QN data\n",
    "#print(\"number of shape areas in Queens: \", QN.Shape_Area.unique().shape[0]) # 70"
   ]
  },
  {
   "cell_type": "code",
   "execution_count": 56,
   "metadata": {
    "collapsed": false
   },
   "outputs": [
    {
     "data": {
      "text/plain": [
       "<matplotlib.text.Text at 0x7f8256bbd748>"
      ]
     },
     "execution_count": 56,
     "metadata": {},
     "output_type": "execute_result"
    },
    {
     "data": {
      "image/png": "[encoded data removed]",
      "text/plain": [
       "<matplotlib.figure.Figure at 0x7f8256bc80b8>"
      ]
     },
     "metadata": {},
     "output_type": "display_data"
    }
   ],
   "source": [
    "# draw Queens\n",
    "QN.plot(figsize=(14,7))\n",
    "#plt.title(\"The Geography of Queens with 70 Sub Area\") # <~~~~~~~~~~~~~~ editted it for each shape doesn't mean zip\n",
    "plt.title(\"The Geography of Brooklyn with 39 zip codes\")\n",
    "plt.xlabel(\"longitude\")\n",
    "plt.ylabel(\"latitude\")"
   ]
  },
  {
   "cell_type": "markdown",
   "metadata": {},
   "source": [
    "### 2. Apply taxi data into Queens map data\n",
    "**1) Read preprocessed taxi dataset.**"
   ]
  },
  {
   "cell_type": "code",
   "execution_count": 57,
   "metadata": {
    "collapsed": false
   },
   "outputs": [],
   "source": [
    "# read stored csv files\n",
    "taxi_data_10 = pd.read_csv(\"taxi_data_csv_files/taxi_data_10.csv\")\n",
    "taxi_data_11 = pd.read_csv(\"taxi_data_csv_files/taxi_data_11.csv\")\n",
    "taxi_data_12 = pd.read_csv(\"taxi_data_csv_files/taxi_data_12.csv\")\n",
    "taxi_data_13 = pd.read_csv(\"taxi_data_csv_files/taxi_data_13.csv\")\n",
    "taxi_data_14 = pd.read_csv(\"taxi_data_csv_files/taxi_data_14.csv\")"
   ]
  },
  {
   "cell_type": "code",
   "execution_count": 58,
   "metadata": {
    "collapsed": false
   },
   "outputs": [
    {
     "data": {
      "text/html": [
       "<div>\n",
       "<table border=\"1\" class=\"dataframe\">\n",
       "  <thead>\n",
       "    <tr style=\"text-align: right;\">\n",
       "      <th></th>\n",
       "      <th>Unnamed: 0</th>\n",
       "      <th>dropoff_latitude</th>\n",
       "      <th>dropoff_longitude</th>\n",
       "      <th>dropoff_datetime</th>\n",
       "      <th>pickup_datetime</th>\n",
       "      <th>pickup_latitude</th>\n",
       "      <th>pickup_longitude</th>\n",
       "      <th>tip_amount</th>\n",
       "      <th>trip_distance</th>\n",
       "    </tr>\n",
       "  </thead>\n",
       "  <tbody>\n",
       "    <tr>\n",
       "      <th>0</th>\n",
       "      <td>0</td>\n",
       "      <td>40.749413</td>\n",
       "      <td>-73.985765</td>\n",
       "      <td>2010-10-05T02:19:00.000</td>\n",
       "      <td>NaN</td>\n",
       "      <td>40.759252</td>\n",
       "      <td>-73.973838</td>\n",
       "      <td>3.0</td>\n",
       "      <td>1.46</td>\n",
       "    </tr>\n",
       "  </tbody>\n",
       "</table>\n",
       "</div>"
      ],
      "text/plain": [
       "   Unnamed: 0  dropoff_latitude  dropoff_longitude         dropoff_datetime  \\\n",
       "0           0         40.749413         -73.985765  2010-10-05T02:19:00.000   \n",
       "\n",
       "   pickup_datetime  pickup_latitude  pickup_longitude  tip_amount  \\\n",
       "0              NaN        40.759252        -73.973838         3.0   \n",
       "\n",
       "   trip_distance  \n",
       "0           1.46  "
      ]
     },
     "execution_count": 58,
     "metadata": {},
     "output_type": "execute_result"
    }
   ],
   "source": [
    "taxi_data_10.head(1)"
   ]
  },
  {
   "cell_type": "markdown",
   "metadata": {},
   "source": [
    "**2) Process taxi data to make it applicable to map data.**"
   ]
  },
  {
   "cell_type": "code",
   "execution_count": 59,
   "metadata": {
    "collapsed": true
   },
   "outputs": [],
   "source": [
    "# from taxi data, take pickup & dropoff latitude and longitude pairs\n",
    "# transform the pair into points and return the points\n",
    "def cov_latlon_POINT(dataframe): \n",
    "    \n",
    "    pickup_latlon = []\n",
    "    dropoff_latlon = [] #dropoff\n",
    "    \n",
    "    for i in range (len(dataframe)):\n",
    "        \n",
    "        pickup_latlon.append(geom.Point(dataframe.pickup_longitude.iloc[i],\n",
    "                                        dataframe.pickup_latitude.iloc[i]))\n",
    "        \n",
    "        dropoff_latlon.append(geom.Point(dataframe.dropoff_longitude.iloc[i], #dropoff\n",
    "                                        dataframe.dropoff_latitude.iloc[i]))\n",
    "    # pickup   \n",
    "    PickupP_df      = gpd.GeoSeries(pickup_latlon)\n",
    "    PickupP_df      = PickupP_df[PickupP_df.values != 'POINT (0.0 0.0)'] #get rid of 0.0 0.0 lon-lat points\n",
    "    #GeoPickup_Point = gpd.GeoDataFrame(geometry=PickupP_df)\n",
    "    \n",
    "    # dropoff\n",
    "    DropoffP_df     = gpd.GeoSeries(dropoff_latlon) \n",
    "    DropoffP_df     = DropoffP_df[DropoffP_df.values != 'POINT (0.0 0.0)'] \n",
    "    \n",
    "    # concatenate the two data frames\n",
    "    TripP_df        = pd.concat([PickupP_df, DropoffP_df])\n",
    "    \n",
    "    GeoPickup_Point = gpd.GeoDataFrame(geometry=TripP_df)\n",
    "    \n",
    "    return (GeoPickup_Point)"
   ]
  },
  {
   "cell_type": "code",
   "execution_count": 60,
   "metadata": {
    "collapsed": true
   },
   "outputs": [],
   "source": [
    "# get trip points(= pickup + dropoff) for each years\n",
    "\n",
    "# 2010 trip points\n",
    "GeoTrip10 = cov_latlon_POINT(taxi_data_10)\n",
    "\n",
    "# 2011 trip points\n",
    "GeoTrip11 = cov_latlon_POINT(taxi_data_11)\n",
    "\n",
    "# 2012 trip points\n",
    "GeoTrip12 = cov_latlon_POINT(taxi_data_12)\n",
    "\n",
    "# 2013 trip points\n",
    "GeoTrip13 = cov_latlon_POINT(taxi_data_13)\n",
    "\n",
    "# 2014 trip points\n",
    "GeoTrip14 = cov_latlon_POINT(taxi_data_14)"
   ]
  },
  {
   "cell_type": "code",
   "execution_count": 61,
   "metadata": {
    "collapsed": false
   },
   "outputs": [
    {
     "name": "stdout",
     "output_type": "stream",
     "text": [
      "2010 trip points: (200000, 1)\n",
      "First two points in the trip points:\n",
      "                       geometry\n",
      "0  POINT (-73.973838 40.759252)\n",
      "1   POINT (-73.96821 40.770695)\n",
      "-----------------------------------\n",
      "2011 trip points: (200000, 1)\n",
      "First two points in the trip points:\n",
      "                               geometry\n",
      "0  POINT (-73.98677499999999 40.725802)\n",
      "1          POINT (-73.993387 40.721605)\n",
      "-----------------------------------\n",
      "2012 trip points: (200000, 1)\n",
      "First two points in the trip points:\n",
      "                               geometry\n",
      "0  POINT (-73.89217499999999 40.746992)\n",
      "1          POINT (-73.782115 40.644622)\n",
      "-----------------------------------\n",
      "2013 trip points: (200000, 1)\n",
      "First two points in the trip points:\n",
      "                      geometry\n",
      "0   POINT (-73.994935 40.7348)\n",
      "1  POINT (-73.972595 40.76223)\n",
      "-----------------------------------\n",
      "2014 trip points: (200000, 1)\n",
      "First two points in the trip points:\n",
      "                               geometry\n",
      "0  POINT (-73.97773000000001 40.752252)\n",
      "1          POINT (-73.981925 40.765817)\n",
      "-----------------------------------\n"
     ]
    }
   ],
   "source": [
    "# confirm the trip points\n",
    "year = 2010\n",
    "for trip_data in [GeoTrip10, GeoTrip11, GeoTrip12, GeoTrip13, GeoTrip14]:\n",
    "    print(year, \"trip points:\", trip_data.shape)\n",
    "    print(\"First two points in the trip points:\")\n",
    "    print(trip_data.head(2))\n",
    "    print(\"-----------------------------------\")\n",
    "    year = year + 1"
   ]
  },
  {
   "cell_type": "markdown",
   "metadata": {},
   "source": [
    "** 3) Apply the trip points into Queens map. **"
   ]
  },
  {
   "cell_type": "code",
   "execution_count": 62,
   "metadata": {
    "collapsed": true
   },
   "outputs": [],
   "source": [
    "# take point data and map data, and return a list of the point lists within the geometry of the map data\n",
    "def points_in_region(points, region): # <~~~~~~~~~~~~~~ editted it from \"City_only_Points(GeoP)\"\n",
    "    within_region = []\n",
    "    for i in range(len(region)):\n",
    "        point_in_sub_area = points[points.geometry.within(region.geometry[i])]\n",
    "        within_region.append(point_in_sub_area) \n",
    "    return(within_region)"
   ]
  },
  {
   "cell_type": "code",
   "execution_count": 63,
   "metadata": {
    "collapsed": true
   },
   "outputs": [],
   "source": [
    "# get trip points in Queens for each year #<~~~~~~~~~~this takes long time\n",
    "#trip_in_QN10 = points_in_region(GeoTrip10, QN)"
   ]
  },
  {
   "cell_type": "code",
   "execution_count": 64,
   "metadata": {
    "collapsed": true
   },
   "outputs": [],
   "source": [
    "trip_in_QN11 = points_in_region(GeoTrip11, QN)"
   ]
  },
  {
   "cell_type": "code",
   "execution_count": 65,
   "metadata": {
    "collapsed": true
   },
   "outputs": [],
   "source": [
    "trip_in_QN12 = points_in_region(GeoTrip12, QN)"
   ]
  },
  {
   "cell_type": "code",
   "execution_count": null,
   "metadata": {
    "collapsed": true
   },
   "outputs": [],
   "source": [
    "trip_in_QN13 = points_in_region(GeoTrip13, QN)"
   ]
  },
  {
   "cell_type": "code",
   "execution_count": null,
   "metadata": {
    "collapsed": false
   },
   "outputs": [],
   "source": [
    "trip_in_QN14 = points_in_region(GeoTrip14, QN)"
   ]
  },
  {
   "cell_type": "code",
   "execution_count": null,
   "metadata": {
    "collapsed": false
   },
   "outputs": [],
   "source": [
    "%%script false\n",
    "# get sum of the trip points in each zip code area\n",
    "def get_trip_sum(geo_points):\n",
    "    sum_  = 0\n",
    "    for i in range (len(geo_points)):\n",
    "        sum_ = sum_ + len(geo_points[i])\n",
    "    return sum_\n",
    "\n",
    "# the number of taxi trips in Queens\n",
    "#sum_trip10 = get_trip_sum(trip_in_QN10)\n",
    "sum_trip11 = get_trip_sum(trip_in_QN11)\n",
    "sum_trip12 = get_trip_sum(trip_in_QN12)\n",
    "sum_trip13 = get_trip_sum(trip_in_QN13)\n",
    "sum_trip14 = get_trip_sum(trip_in_QN14)\n",
    "\n",
    "# bar graph - the number of taxi trips in Queens\n",
    "fig = plt.figure()\n",
    "ax = fig.add_subplot(111)\n",
    "\n",
    "ind = np.arange(5) # the x locations for the groups\n",
    "width = 0.35       # the width of the bars\n",
    "\n",
    "y_val = [sum_trip11, sum_trip12, sum_trip13, sum_trip14]\n",
    "p1 = ax.bar(ind, y_val, width, edgecolor='b')\n",
    "\n",
    "ax.set_frame_on(False)\n",
    "\n",
    "ax.set_title('Number of Taxi Trips in Queens')\n",
    "ax.set_xlabel('Years')\n",
    "ax.set_ylabel('Pickups and Dropoffs in Queens')\n",
    "\n",
    "ax.set_xticks(ind + width/2.)\n",
    "ax.set_xticklabels(('2011', '2012', '2013', '2014'))"
   ]
  },
  {
   "cell_type": "markdown",
   "metadata": {},
   "source": [
    "** 4) Apply the trip points into sub area - zip codes - in Queens. **"
   ]
  },
  {
   "cell_type": "code",
   "execution_count": null,
   "metadata": {
    "collapsed": false
   },
   "outputs": [],
   "source": [
    "# get sum of the trips in the sub-region\n",
    "def get_trip_sum_local(geo_points):\n",
    "    sums  = []\n",
    "    for i in range (len(geo_points)):\n",
    "        sums.append(len(geo_points[i]))\n",
    "    return sums\n",
    "\n",
    "# the number of taxi trips in subarea of Queens\n",
    "#loc_sum_trip10 = get_trip_sum_local(trip_in_QN10)\n",
    "loc_sum_trip11 = get_trip_sum_local(trip_in_QN11)\n",
    "loc_sum_trip12 = get_trip_sum_local(trip_in_QN12)\n",
    "loc_sum_trip13 = get_trip_sum_local(trip_in_QN13)\n",
    "loc_sum_trip14 = get_trip_sum_local(trip_in_QN14)\n",
    "#len(loc_sum_trip10) # 70 for each sub area"
   ]
  },
  {
   "cell_type": "code",
   "execution_count": null,
   "metadata": {
    "collapsed": false
   },
   "outputs": [],
   "source": [
    "# create a dataframe\n",
    "df_tripQN = pd.DataFrame({'zip_code':QN.postalCode,\n",
    "                          'trip_11':loc_sum_trip11,\n",
    "                          'trip_12':loc_sum_trip12,\n",
    "                          'trip_13':loc_sum_trip13,\n",
    "                          'trip_14':loc_sum_trip14})\n",
    "df_tripQN.head()"
   ]
  },
  {
   "cell_type": "code",
   "execution_count": null,
   "metadata": {
    "collapsed": false
   },
   "outputs": [],
   "source": [
    "#df_tripQN.index\n",
    "#df_tripQN.trip_10\n",
    "df_tripQN.hist(orientation='horizontal') # <========================================= try 1"
   ]
  },
  {
   "cell_type": "code",
   "execution_count": null,
   "metadata": {
    "collapsed": false
   },
   "outputs": [],
   "source": [
    "%%script false\n",
    "# draw a bar graph                   # <========================================= try 2\n",
    "fig = plt.figure()\n",
    "ax = fig.add_subplot(111)\n",
    "\n",
    "ind = np.arange(70)  # the x locations for the groups\n",
    "#width = 0.3             # the width of the bars\n",
    "\n",
    "#x_val = df_tripQN.index\n",
    "y_val = df_tripQN.trip_10\n",
    "p1 = ax.barh(y_val, ind, align='center', edgecolor='b')\n",
    "\n",
    "ax.set_frame_on(False)\n",
    "\n",
    "ax.set_title('Number of Taxi Trips in Subarea of Queens')\n",
    "ax.set_xlabel('Zip Codes')\n",
    "ax.set_ylabel('Pickups and Dropoffs in Queens')\n",
    "\n",
    "ax.set_xticks(ind)\n",
    "ax.set_xticklabels(df_tripQN.zip_code)\n",
    "\n",
    "#plt.xticks(rotate=90)\n",
    "#plt.xticks(rotation='vertical')"
   ]
  },
  {
   "cell_type": "markdown",
   "metadata": {},
   "source": [
    "** 5) Gentrification suspected area with statistical method. **"
   ]
  },
  {
   "cell_type": "code",
   "execution_count": null,
   "metadata": {
    "collapsed": false
   },
   "outputs": [],
   "source": [
    "# suspect the area where taxi trip increased drastically \n",
    "# between 2010 and 2014 as a gentrification area\n",
    "\n",
    "# gentrification suspected area in Queens\n",
    "gen_susp_area_series = df_tripQN.iloc[:,0:4].transpose().describe().loc['std', :].sort_values(ascending=False)\n",
    "#print(gen_susp_area_series.head(4))\n",
    "\n",
    "gen_susp_area = gen_susp_area_series.head(4).keys()\n",
    "print(gen_susp_area)"
   ]
  },
  {
   "cell_type": "code",
   "execution_count": null,
   "metadata": {
    "collapsed": false
   },
   "outputs": [],
   "source": [
    "# bar graph - the number of taxi pickups in Queens\n",
    "ind = np.arange(4) # the x locations for the groups\n",
    "width = 0.35       # the width of the bars\n",
    "\n",
    "fig = plt.figure()\n",
    "\n",
    "def get_y(sub_area_num):\n",
    "    y_val =  [loc_sum_trip11[sub_area_num], \n",
    "             loc_sum_trip12[sub_area_num], \n",
    "             loc_sum_trip13[sub_area_num], \n",
    "             loc_sum_trip14[sub_area_num]]\n",
    "    return y_val\n",
    "\n",
    "#for area in gen_susp_area:   \n",
    "ax1 = fig.add_subplot(221)\n",
    "ax1.bar(ind, get_y(gen_susp_area[0]), width, edgecolor='b')\n",
    "ax1.set_title(QN.PO_NAME.iloc[gen_susp_area[0]])\n",
    "ax1.set_xlabel('Years')\n",
    "ax1.set_ylabel('Trips')\n",
    "ax1.set_xticks(ind + width/2.)\n",
    "ax1.set_xticklabels(('2011', '2012', '2013', '2014'))\n",
    "\n",
    "ax2 = fig.add_subplot(222)\n",
    "ax2.bar(ind, get_y(gen_susp_area[1]), width, edgecolor='b')\n",
    "ax2.set_title(QN.PO_NAME.iloc[gen_susp_area[1]])\n",
    "ax2.set_xlabel('Years')\n",
    "ax2.set_ylabel('Trips')\n",
    "ax2.set_xticks(ind + width/2.)\n",
    "ax2.set_xticklabels(('2011', '2012', '2013', '2014'))\n",
    "\n",
    "ax3 = fig.add_subplot(223)\n",
    "ax3.bar(ind, get_y(gen_susp_area[2]), width, edgecolor='b')\n",
    "ax3.set_title(QN.PO_NAME.iloc[gen_susp_area[2]])\n",
    "ax3.set_xlabel('Years')\n",
    "ax3.set_ylabel('Trips')\n",
    "ax3.set_xticks(ind + width/2.)\n",
    "ax3.set_xticklabels(('2011', '2012', '2013', '2014'))\n",
    "\n",
    "ax4 = fig.add_subplot(224)\n",
    "ax4.bar(ind, get_y(gen_susp_area[3]), width, edgecolor='b')\n",
    "ax4.set_title(QN.PO_NAME.iloc[gen_susp_area[3]])\n",
    "ax4.set_xlabel('Years')\n",
    "ax4.set_ylabel('Trips')\n",
    "ax4.set_xticks(ind + width/2.)\n",
    "ax4.set_xticklabels(('2011', '2012', '2013', '2014'))\n",
    "\n",
    "plt.tight_layout()"
   ]
  },
  {
   "cell_type": "markdown",
   "metadata": {},
   "source": [
    "As an example, taxi trips in Forest Hills and Elmhurst increased drastically between 2012 and 2013.\n",
    "We suspect gentrification happened in Forest Hills and Elmhurst between 2012 and 2013."
   ]
  },
  {
   "cell_type": "code",
   "execution_count": null,
   "metadata": {
    "collapsed": false
   },
   "outputs": [],
   "source": [
    "# 2011\n",
    "ForestHills11 = GeoTrip11[GeoTrip11.geometry.within(QN.geometry[gen_susp_area[0]])]\n",
    "ForestHills11.plot(marker='o', color='red', alpha=0.3, markersize=2, figsize=(14,7))\n",
    "plt.title(\"2011 Taxi Trips in \" + QN.PO_NAME.iloc[gen_susp_area[0]] + \" - zip code: \" + str(QN.postalCode.iloc[gen_susp_area[0]]))\n",
    "plt.xlabel(\"Longitudes\")\n",
    "plt.ylabel(\"Latitudes\")\n",
    "QN.geometry[gen_susp_area[0]]"
   ]
  },
  {
   "cell_type": "code",
   "execution_count": null,
   "metadata": {
    "collapsed": false
   },
   "outputs": [],
   "source": [
    "# 2012\n",
    "ForestHills12 = GeoTrip12[GeoTrip12.geometry.within(QN.geometry[gen_susp_area[0]])]\n",
    "ForestHills12.plot(marker='o', color='red', alpha=0.3, markersize=2, figsize=(14,7))\n",
    "plt.title(\"2012 Taxi Trips in \" + QN.PO_NAME.iloc[gen_susp_area[0]] + \" - zip code: \" + str(QN.postalCode.iloc[gen_susp_area[0]]))\n",
    "plt.xlabel(\"Longitudes\")\n",
    "plt.ylabel(\"Latitudes\")\n",
    "QN.geometry[gen_susp_area[0]]"
   ]
  },
  {
   "cell_type": "code",
   "execution_count": null,
   "metadata": {
    "collapsed": false
   },
   "outputs": [],
   "source": [
    "# 2013\n",
    "ForestHills13 = GeoTrip13[GeoTrip13.geometry.within(QN.geometry[gen_susp_area[0]])]\n",
    "ForestHills13.plot(marker='o', color='red', alpha=0.3, markersize=2, figsize=(14,7))\n",
    "plt.title(\"2013 Taxi Trips in \" + QN.PO_NAME.iloc[gen_susp_area[0]] + \" - zip code: \" + str(QN.postalCode.iloc[gen_susp_area[0]]))\n",
    "plt.xlabel(\"Longitudes\")\n",
    "plt.ylabel(\"Latitudes\")\n",
    "QN.geometry[gen_susp_area[0]]"
   ]
  },
  {
   "cell_type": "code",
   "execution_count": null,
   "metadata": {
    "collapsed": false
   },
   "outputs": [],
   "source": [
    "# 2014\n",
    "ForestHills14 = GeoTrip14[GeoTrip14.geometry.within(QN.geometry[gen_susp_area[0]])]\n",
    "ForestHills14.plot(marker='o', color='red', alpha=0.3, markersize=2, figsize=(14,7))\n",
    "plt.title(\"2014 Taxi Trips in \" + QN.PO_NAME.iloc[gen_susp_area[0]] + \" - zip code: \" + str(QN.postalCode.iloc[gen_susp_area[0]]))\n",
    "plt.xlabel(\"Longitudes\")\n",
    "plt.ylabel(\"Latitudes\")\n",
    "QN.geometry[gen_susp_area[0]]"
   ]
  },
  {
   "cell_type": "markdown",
   "metadata": {
    "collapsed": true
   },
   "source": [
    "**6) visualize trips in subarea of Queens where the most trips happened.**"
   ]
  },
  {
   "cell_type": "code",
   "execution_count": null,
   "metadata": {
    "collapsed": true
   },
   "outputs": [],
   "source": [
    "# sort the pickup points for each subarea in Queens based on zip code\n",
    "def sort_points(points):\n",
    "    points_per_zipcode = {}\n",
    "    for i in range(len(points)):\n",
    "        points_per_zipcode[i] = len(points[i])\n",
    "    return points_per_zipcode"
   ]
  },
  {
   "cell_type": "code",
   "execution_count": null,
   "metadata": {
    "collapsed": true
   },
   "outputs": [],
   "source": [
    "# sort pickup points for each year\n",
    "trip_per_zipcode11 = sort_points(trip_in_QN11)\n",
    "trip_per_zipcode12 = sort_points(trip_in_QN12)\n",
    "trip_per_zipcode13 = sort_points(trip_in_QN13)\n",
    "trip_per_zipcode14 = sort_points(trip_in_QN14)"
   ]
  },
  {
   "cell_type": "code",
   "execution_count": null,
   "metadata": {
    "collapsed": false
   },
   "outputs": [],
   "source": [
    "# make a dataframe for pickup points per zip code in Queens\n",
    "QN_per_Zip_df11 = pd.DataFrame.from_dict(trip_per_zipcode11, orient='index')\n",
    "QN_per_Zip_df11.rename(columns={0: 'trips'}, inplace = True)\n",
    "QN_per_Zip_df11['ZIP'] = QN.postalCode.values\n",
    "QN_per_Zip_df11['year'] = 2011\n",
    "QN_per_Zip_df11.head()"
   ]
  },
  {
   "cell_type": "code",
   "execution_count": null,
   "metadata": {
    "collapsed": false
   },
   "outputs": [],
   "source": [
    "# sort the pickup data in decending order based on number of pickups\n",
    "max_trip = QN_per_Zip_df11.sort_values('trips', ascending = False)\n",
    "max_trip.head()\n",
    "QN_per_Zip_df11.to_csv('data/QN_Trips11.csv')"
   ]
  },
  {
   "cell_type": "code",
   "execution_count": null,
   "metadata": {
    "collapsed": false
   },
   "outputs": [],
   "source": [
    "# make a dataframe for pickup points per zip code in Queens\n",
    "QN_per_Zip_df12 = pd.DataFrame.from_dict(trip_per_zipcode12, orient='index')\n",
    "QN_per_Zip_df12.rename(columns={0: 'trips'}, inplace = True)\n",
    "QN_per_Zip_df12['ZIP'] = QN.postalCode.values\n",
    "QN_per_Zip_df12['year'] = 2012\n",
    "QN_per_Zip_df12.head()"
   ]
  },
  {
   "cell_type": "code",
   "execution_count": null,
   "metadata": {
    "collapsed": false
   },
   "outputs": [],
   "source": [
    "# sort the pickup data in decending order based on number of pickups\n",
    "max_trip = QN_per_Zip_df12.sort_values('trips', ascending = False)\n",
    "max_trip.head()\n",
    "QN_per_Zip_df12.to_csv('data/QN_Trips12.csv')"
   ]
  },
  {
   "cell_type": "code",
   "execution_count": null,
   "metadata": {
    "collapsed": false
   },
   "outputs": [],
   "source": [
    "# make a dataframe for pickup points per zip code in Queens\n",
    "QN_per_Zip_df13 = pd.DataFrame.from_dict(trip_per_zipcode13, orient='index')\n",
    "QN_per_Zip_df13.rename(columns={0: 'trips'}, inplace = True)\n",
    "QN_per_Zip_df13['ZIP'] = QN.postalCode.values\n",
    "QN_per_Zip_df13['year'] = 2013\n",
    "QN_per_Zip_df13.head()"
   ]
  },
  {
   "cell_type": "code",
   "execution_count": null,
   "metadata": {
    "collapsed": false
   },
   "outputs": [],
   "source": [
    "# sort the pickup data in decending order based on number of pickups\n",
    "max_trip = QN_per_Zip_df13.sort_values('trips', ascending = False)\n",
    "max_trip.head()\n",
    "QN_per_Zip_df13.to_csv('data/QN_Trips13.csv')"
   ]
  },
  {
   "cell_type": "code",
   "execution_count": null,
   "metadata": {
    "collapsed": false
   },
   "outputs": [],
   "source": [
    "# make a dataframe for pickup points per zip code in Queens\n",
    "QN_per_Zip_df14 = pd.DataFrame.from_dict(trip_per_zipcode14, orient='index')\n",
    "QN_per_Zip_df14.rename(columns={0: 'trips'}, inplace = True)\n",
    "QN_per_Zip_df14['ZIP'] = QN.postalCode.values\n",
    "QN_per_Zip_df14['year'] = 2014\n",
    "QN_per_Zip_df14.head()"
   ]
  },
  {
   "cell_type": "code",
   "execution_count": null,
   "metadata": {
    "collapsed": false
   },
   "outputs": [],
   "source": [
    "# sort the pickup data in decending order based on number of pickups\n",
    "max_trip = QN_per_Zip_df14.sort_values('trips', ascending = False)\n",
    "max_trip.head()\n",
    "QN_per_Zip_df14.to_csv('data/QN_Trips14.csv')"
   ]
  },
  {
   "cell_type": "code",
   "execution_count": null,
   "metadata": {
    "collapsed": false
   },
   "outputs": [],
   "source": [
    "# find the area with max trips\n",
    "max_val = max_trip.reset_index()\n",
    "print (\"The max trips made per Zip-Code is: \", max_val.loc[0]['trips'])\n",
    "print (\"The ZipCode that it Corresponds to is: \", max_val.loc[0].ZIP)\n",
    "print(\"The area is\", QN.PO_NAME.iloc[31])"
   ]
  },
  {
   "cell_type": "code",
   "execution_count": null,
   "metadata": {
    "collapsed": false
   },
   "outputs": [],
   "source": [
    "# visualize flushing pickups \n",
    "Plot_11371 = GeoTrip14[GeoTrip14.geometry.within(QN.geometry[31])]\n",
    "QN.geometry[31]\n",
    "Plot_11371.plot(marker='o', color='red', alpha=0.3, markersize=2, figsize=(14,7))\n",
    "plt.title(\"2014 Taxi Trips in \" + QN.PO_NAME.iloc[31] + \" - zip code: \" + str(max_trip.ZIP[0]))\n",
    "plt.xlabel(\"Longitudes\")\n",
    "plt.ylabel(\"Latitudes\")\n",
    "QN.geometry[31]"
   ]
  },
  {
   "cell_type": "markdown",
   "metadata": {},
   "source": []
  },
  {
   "cell_type": "code",
   "execution_count": null,
   "metadata": {
    "collapsed": false
   },
   "outputs": [],
   "source": [
    "print((len(QN_per_Zip_df11),len(QN_per_Zip_df12),len(QN_per_Zip_df13),len(QN_per_Zip_df14)))"
   ]
  },
  {
   "cell_type": "code",
   "execution_count": null,
   "metadata": {
    "collapsed": true
   },
   "outputs": [],
   "source": [
    "colsfix = [\"trips\", \"ZIP\", \"year\"]\n",
    "QN_per_Zip_df11[colsfix] = QN_per_Zip_df11[colsfix].apply(pd.to_numeric)\n",
    "QN_per_Zip_df12[colsfix] = QN_per_Zip_df12[colsfix].apply(pd.to_numeric)\n",
    "QN_per_Zip_df13[colsfix] = QN_per_Zip_df13[colsfix].apply(pd.to_numeric)\n",
    "QN_per_Zip_df14[colsfix] = QN_per_Zip_df14[colsfix].apply(pd.to_numeric)"
   ]
  },
  {
   "cell_type": "code",
   "execution_count": null,
   "metadata": {
    "collapsed": true
   },
   "outputs": [],
   "source": [
    "QN_per_Zip_df11.to_csv('data/QN_Trips11.csv')\n",
    "QN_per_Zip_df12.to_csv('data/QN_Trips12.csv')\n",
    "QN_per_Zip_df13.to_csv('data/QN_Trips13.csv')\n",
    "QN_per_Zip_df14.to_csv('data/QN_Trips14.csv')"
   ]
  },
  {
   "cell_type": "code",
   "execution_count": null,
   "metadata": {
    "collapsed": true
   },
   "outputs": [],
   "source": []
  }
 ],
 "metadata": {
  "anaconda-cloud": {},
  "kernelspec": {
   "display_name": "Python [DataScience-Project]",
   "language": "python",
   "name": "Python [DataScience-Project]"
  },
  "language_info": {
   "codemirror_mode": {
    "name": "ipython",
    "version": 3
   },
   "file_extension": ".py",
   "mimetype": "text/x-python",
   "name": "python",
   "nbconvert_exporter": "python",
   "pygments_lexer": "ipython3",
   "version": "3.5.2"
  }
 },
 "nbformat": 4,
 "nbformat_minor": 0
}
